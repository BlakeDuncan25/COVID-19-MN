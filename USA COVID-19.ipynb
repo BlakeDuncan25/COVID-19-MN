{
 "cells": [
  {
   "cell_type": "code",
   "execution_count": 1,
   "metadata": {},
   "outputs": [],
   "source": [
    "import pandas as pd\n",
    "from datetime import datetime, timedelta"
   ]
  },
  {
   "cell_type": "code",
   "execution_count": 2,
   "metadata": {},
   "outputs": [],
   "source": [
    "date_today = (datetime.today() - timedelta(days=1)).strftime(\"%m-%d-%Y\")"
   ]
  },
  {
   "cell_type": "code",
   "execution_count": 3,
   "metadata": {},
   "outputs": [],
   "source": [
    "url = f'https://raw.githubusercontent.com/CSSEGISandData/COVID-19/master/csse_covid_19_data/csse_covid_19_daily_reports/{date_today}.csv'"
   ]
  },
  {
   "cell_type": "code",
   "execution_count": 4,
   "metadata": {},
   "outputs": [],
   "source": [
    "df = pd.read_csv(url, error_bad_lines=False)\n",
    "df = df.drop(columns=['Lat', 'Long_', 'FIPS'])"
   ]
  },
  {
   "cell_type": "code",
   "execution_count": 5,
   "metadata": {},
   "outputs": [],
   "source": [
    "df_countries = df.groupby(['Country_Region']).sum()\n",
    "df_countries = df_countries[df_countries['Confirmed']>=5000]\n",
    "df_countries['Fatality Rate'] = df_countries['Deaths'] / df_countries['Confirmed'] * 100\n",
    "df_countries = df_countries.sort_values(by='Fatality Rate', ascending=False)"
   ]
  },
  {
   "cell_type": "code",
   "execution_count": 6,
   "metadata": {},
   "outputs": [
    {
     "name": "stdout",
     "output_type": "stream",
     "text": [
      "                Confirmed  Deaths  Recovered  Active  Fatality Rate\n",
      "Country_Region                                                     \n",
      "Italy              115242   13915      18278   83049      12.074591\n",
      "Spain              112065   10348      26743   74974       9.233927\n",
      "Netherlands         14788    1341        260   13187       9.068163\n",
      "France              59929    5398      12548   41983       9.007325\n",
      "United Kingdom      34173    2926        192   31055       8.562315\n",
      "Belgium             15348    1011       2495   11842       6.587177\n",
      "Iran                50468    3160      16711   30597       6.261393\n",
      "Sweden               5568     308        103    5157       5.531609\n",
      "China               82432    3322      76565    2545       4.029988\n",
      "Brazil               8044     324        127    7593       4.027847\n",
      "Switzerland         18827     536       4013   14278       2.846975\n",
      "US                 243453    5926       9001       0       2.434145\n",
      "Portugal             9034     209         68    8757       2.313482\n",
      "Turkey              18135     356        415   17364       1.963055\n",
      "Korea, South         9976     169       5828    3979       1.694066\n",
      "Austria             11129     158       1749    9222       1.419714\n",
      "Germany             84794    1107      22440   61247       1.305517\n",
      "Canada              11284     139       1735       0       1.231833\n",
      "Norway               5147      50         32    5065       0.971440\n",
      "Israel               6857      36        338    6483       0.525011\n",
      "Australia            5116      24        520    4572       0.469116\n"
     ]
    }
   ],
   "source": [
    "print(df_countries)"
   ]
  },
  {
   "cell_type": "code",
   "execution_count": 7,
   "metadata": {},
   "outputs": [],
   "source": [
    "df_countries = df.groupby(['Country_Region']).sum()\n",
    "df_countries = df_countries[df_countries['Recovered']>=1000]\n",
    "df_countries['Recoveries per Death'] = df_countries['Recovered'] / df_countries['Deaths']\n",
    "df_countries = df_countries.sort_values(by='Recoveries per Death', ascending=False)"
   ]
  },
  {
   "cell_type": "code",
   "execution_count": 8,
   "metadata": {},
   "outputs": [
    {
     "name": "stdout",
     "output_type": "stream",
     "text": [
      "                Confirmed  Deaths  Recovered  Active  Recoveries per Death\n",
      "Country_Region                                                            \n",
      "Korea, South         9976     169       5828    3979             34.485207\n",
      "China               82432    3322      76565    2545             23.047863\n",
      "Germany             84794    1107      22440   61247             20.271003\n",
      "Canada              11284     139       1735       0             12.482014\n",
      "Austria             11129     158       1749    9222             11.069620\n",
      "Denmark              3573     123       1172    2278              9.528455\n",
      "Switzerland         18827     536       4013   14278              7.486940\n",
      "Iran                50468    3160      16711   30597              5.288291\n",
      "Spain              112065   10348      26743   74974              2.584364\n",
      "Belgium             15348    1011       2495   11842              2.467854\n",
      "France              59929    5398      12548   41983              2.324565\n",
      "US                 243453    5926       9001       0              1.518900\n",
      "Italy              115242   13915      18278   83049              1.313547\n"
     ]
    }
   ],
   "source": [
    "print(df_countries)"
   ]
  },
  {
   "cell_type": "code",
   "execution_count": 9,
   "metadata": {},
   "outputs": [],
   "source": [
    "df_us = df[df['Country_Region']=='US']"
   ]
  },
  {
   "cell_type": "code",
   "execution_count": 10,
   "metadata": {},
   "outputs": [],
   "source": [
    "confirmed_pct = \"{0:.4f}%\".format(df_us['Confirmed'].sum()/331002651*100)\n",
    "deaths_pct = \"{0:.2f}%\".format(df_us['Deaths'].sum()/df_us['Confirmed'].sum()*100)\n",
    "overall_deaths_pct = \"{0:.4f}%\".format(df_us['Deaths'].sum()/331002651*100)"
   ]
  },
  {
   "cell_type": "code",
   "execution_count": 11,
   "metadata": {
    "scrolled": true
   },
   "outputs": [
    {
     "name": "stdout",
     "output_type": "stream",
     "text": [
      "There have been 243453 confirmed cases of COVID-19 in the US.\n",
      "There have been 5926 deaths from COVID-19 in the US.\n",
      "An American has a 0.0736% percent chance of having had a confirmed case of COVID-19.\n",
      "An American has a 2.43% percent chance of having died from a confirmed case of COVID-19.\n",
      "An American has a 0.0018% percent chance of having died from COVID-19.\n"
     ]
    }
   ],
   "source": [
    "print('There have been %d confirmed cases of COVID-19 in the US.' % df_us['Confirmed'].sum())\n",
    "print('There have been %d deaths from COVID-19 in the US.' % df_us['Deaths'].sum())\n",
    "print('An American has a %s percent chance of having had a confirmed case of COVID-19.' % confirmed_pct)\n",
    "print('An American has a %s percent chance of having died from a confirmed case of COVID-19.' % deaths_pct)\n",
    "print('An American has a %s percent chance of having died from COVID-19.' % overall_deaths_pct)"
   ]
  },
  {
   "cell_type": "code",
   "execution_count": 12,
   "metadata": {},
   "outputs": [],
   "source": [
    "df_mn = df[df['Province_State']=='Minnesota']"
   ]
  },
  {
   "cell_type": "code",
   "execution_count": 13,
   "metadata": {},
   "outputs": [],
   "source": [
    "confirmed_pct = \"{0:.4f}%\".format(df_mn['Confirmed'].sum()/5700000*100)\n",
    "deaths_pct = \"{0:.2f}%\".format(df_mn['Deaths'].sum()/df_mn['Confirmed'].sum()*100)\n",
    "overall_deaths_pct = \"{0:.4f}%\".format(df_mn['Deaths'].sum()/5700000*100)"
   ]
  },
  {
   "cell_type": "code",
   "execution_count": 14,
   "metadata": {},
   "outputs": [
    {
     "name": "stdout",
     "output_type": "stream",
     "text": [
      "There have been 742 confirmed cases of COVID-19 in Minnesota.\n",
      "There have been 18 deaths from COVID-19 in Minnesota.\n",
      "A Minnesotan has a 0.0130% percent chance of having had a confirmed case of COVID-19.\n",
      "A Minnesotan has a 2.43% percent chance of having died from a confirmed case of COVID-19.\n",
      "A Minnesotan has a 0.0003% percent chance of having died from COVID-19.\n"
     ]
    }
   ],
   "source": [
    "print('There have been %d confirmed cases of COVID-19 in Minnesota.' % df_mn['Confirmed'].sum())\n",
    "print('There have been %d deaths from COVID-19 in Minnesota.' % df_mn['Deaths'].sum())\n",
    "print('A Minnesotan has a %s percent chance of having had a confirmed case of COVID-19.' % confirmed_pct)\n",
    "print('A Minnesotan has a %s percent chance of having died from a confirmed case of COVID-19.' % deaths_pct)\n",
    "print('A Minnesotan has a %s percent chance of having died from COVID-19.' % overall_deaths_pct)"
   ]
  }
 ],
 "metadata": {
  "kernelspec": {
   "display_name": "Python 3",
   "language": "python",
   "name": "python3"
  },
  "language_info": {
   "codemirror_mode": {
    "name": "ipython",
    "version": 3
   },
   "file_extension": ".py",
   "mimetype": "text/x-python",
   "name": "python",
   "nbconvert_exporter": "python",
   "pygments_lexer": "ipython3",
   "version": "3.7.6"
  }
 },
 "nbformat": 4,
 "nbformat_minor": 4
}
