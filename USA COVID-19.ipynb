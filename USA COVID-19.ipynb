{
 "cells": [
  {
   "cell_type": "code",
   "execution_count": 1,
   "metadata": {},
   "outputs": [],
   "source": [
    "import pandas as pd\n",
    "from datetime import datetime, timedelta"
   ]
  },
  {
   "cell_type": "code",
   "execution_count": 2,
   "metadata": {},
   "outputs": [],
   "source": [
    "date_today = (datetime.today() - timedelta(days=1)).strftime(\"%m-%d-%Y\")"
   ]
  },
  {
   "cell_type": "code",
   "execution_count": 3,
   "metadata": {},
   "outputs": [],
   "source": [
    "url = f'https://raw.githubusercontent.com/CSSEGISandData/COVID-19/master/csse_covid_19_data/csse_covid_19_daily_reports/{date_today}.csv'"
   ]
  },
  {
   "cell_type": "code",
   "execution_count": 4,
   "metadata": {},
   "outputs": [],
   "source": [
    "df = pd.read_csv(url, error_bad_lines=False)\n",
    "df = df.drop(columns=['Latitude', 'Longitude'])"
   ]
  },
  {
   "cell_type": "code",
   "execution_count": 5,
   "metadata": {},
   "outputs": [],
   "source": [
    "df_countries = df.groupby(['Country/Region']).sum()\n",
    "df_countries = df_countries[df_countries['Confirmed']>=500]\n",
    "df_countries['Mortality Rate'] = df_countries['Deaths'] / df_countries['Confirmed'] * 100\n",
    "df_countries = df_countries.sort_values(by='Mortality Rate', ascending=False)"
   ]
  },
  {
   "cell_type": "code",
   "execution_count": 6,
   "metadata": {},
   "outputs": [
    {
     "name": "stdout",
     "output_type": "stream",
     "text": [
      "                Confirmed  Deaths  Recovered  Mortality Rate\n",
      "Country/Region                                              \n",
      "Italy               17660    1266       1439        7.168743\n",
      "Iran                11364     514       2959        4.523055\n",
      "China               80945    3180      64196        3.928593\n",
      "Japan                 701      19        118        2.710414\n",
      "Spain                5232     133        193        2.542049\n",
      "US                   2179      47         12        2.156953\n",
      "France               3667      79         12        2.154350\n",
      "Netherlands           804      10          0        1.243781\n",
      "Cruise Ship           696       7        325        1.005747\n",
      "United Kingdom        801       8         19        0.998752\n",
      "Switzerland          1139      11          4        0.965759\n",
      "Korea, South         7979      66        510        0.827171\n",
      "Belgium               559       3          1        0.536673\n",
      "Austria               504       1          6        0.198413\n",
      "Germany              3675       7         46        0.190476\n",
      "Sweden                814       1          1        0.122850\n",
      "Norway                996       0          1        0.000000\n",
      "Denmark               804       0          1        0.000000\n"
     ]
    }
   ],
   "source": [
    "print(df_countries.head(100))"
   ]
  },
  {
   "cell_type": "code",
   "execution_count": 7,
   "metadata": {},
   "outputs": [],
   "source": [
    "df_us = df[df['Country/Region']=='US']"
   ]
  },
  {
   "cell_type": "code",
   "execution_count": 8,
   "metadata": {},
   "outputs": [],
   "source": [
    "confirmed_pct = \"{0:.4f}%\".format(df_us['Confirmed'].sum()/331002651*100)\n",
    "deaths_pct = \"{0:.2f}%\".format(df_us['Deaths'].sum()/df_us['Confirmed'].sum()*100)\n",
    "overall_deaths_pct = \"{0:.4f}%\".format(df_us['Deaths'].sum()/331002651*100)"
   ]
  },
  {
   "cell_type": "code",
   "execution_count": 9,
   "metadata": {
    "scrolled": true
   },
   "outputs": [
    {
     "name": "stdout",
     "output_type": "stream",
     "text": [
      "There have been 2179 confirmed cases of COVID-19 in the US.\n",
      "There have been 47 deaths from COVID-19 in the US.\n",
      "An American has a 0.0007% percent chance of having had a confirmed case of COVID-19.\n",
      "An American has a 2.16% percent chance of having died from a confirmed case of COVID-19.\n",
      "An American has a 0.0000% percent chance of having died from COVID-19.\n"
     ]
    }
   ],
   "source": [
    "print('There have been %d confirmed cases of COVID-19 in the US.' % df_us['Confirmed'].sum())\n",
    "print('There have been %d deaths from COVID-19 in the US.' % df_us['Deaths'].sum())\n",
    "print('An American has a %s percent chance of having had a confirmed case of COVID-19.' % confirmed_pct)\n",
    "print('An American has a %s percent chance of having died from a confirmed case of COVID-19.' % deaths_pct)\n",
    "print('An American has a %s percent chance of having died from COVID-19.' % overall_deaths_pct)"
   ]
  },
  {
   "cell_type": "code",
   "execution_count": 10,
   "metadata": {},
   "outputs": [],
   "source": [
    "df_mn = df[df['Province/State']=='Minnesota']"
   ]
  },
  {
   "cell_type": "code",
   "execution_count": 11,
   "metadata": {},
   "outputs": [],
   "source": [
    "confirmed_pct = \"{0:.4f}%\".format(df_mn['Confirmed'].sum()/5700000*100)\n",
    "deaths_pct = \"{0:.2f}%\".format(df_mn['Deaths'].sum()/df_mn['Confirmed'].sum()*100)\n",
    "overall_deaths_pct = \"{0:.4f}%\".format(df_mn['Deaths'].sum()/5700000*100)"
   ]
  },
  {
   "cell_type": "code",
   "execution_count": 12,
   "metadata": {},
   "outputs": [
    {
     "name": "stdout",
     "output_type": "stream",
     "text": [
      "There have been 14 confirmed cases of COVID-19 in Minnesota.\n",
      "There have been 0 deaths from COVID-19 in Minnesota.\n",
      "A Minnesotan has a 0.0002% percent chance of having had a confirmed case of COVID-19.\n",
      "A Minnesotan has a 0.00% percent chance of having died from a confirmed case of COVID-19.\n",
      "A Minnesotan has a 0.0000% percent chance of having died from COVID-19.\n"
     ]
    }
   ],
   "source": [
    "print('There have been %d confirmed cases of COVID-19 in Minnesota.' % df_mn['Confirmed'].sum())\n",
    "print('There have been %d deaths from COVID-19 in Minnesota.' % df_mn['Deaths'].sum())\n",
    "print('A Minnesotan has a %s percent chance of having had a confirmed case of COVID-19.' % confirmed_pct)\n",
    "print('A Minnesotan has a %s percent chance of having died from a confirmed case of COVID-19.' % deaths_pct)\n",
    "print('A Minnesotan has a %s percent chance of having died from COVID-19.' % overall_deaths_pct)"
   ]
  }
 ],
 "metadata": {
  "kernelspec": {
   "display_name": "Python 3",
   "language": "python",
   "name": "python3"
  },
  "language_info": {
   "codemirror_mode": {
    "name": "ipython",
    "version": 3
   },
   "file_extension": ".py",
   "mimetype": "text/x-python",
   "name": "python",
   "nbconvert_exporter": "python",
   "pygments_lexer": "ipython3",
   "version": "3.7.6"
  }
 },
 "nbformat": 4,
 "nbformat_minor": 2
}
