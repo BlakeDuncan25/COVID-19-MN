{
 "cells": [
  {
   "cell_type": "code",
   "execution_count": 1,
   "metadata": {},
   "outputs": [],
   "source": [
    "import pandas as pd\n",
    "from datetime import datetime, timedelta"
   ]
  },
  {
   "cell_type": "code",
   "execution_count": 2,
   "metadata": {},
   "outputs": [],
   "source": [
    "date_today = (datetime.today() - timedelta(days=1)).strftime(\"%m-%d-%Y\")"
   ]
  },
  {
   "cell_type": "code",
   "execution_count": 3,
   "metadata": {},
   "outputs": [],
   "source": [
    "url = f'https://raw.githubusercontent.com/CSSEGISandData/COVID-19/master/csse_covid_19_data/csse_covid_19_daily_reports/{date_today}.csv'"
   ]
  },
  {
   "cell_type": "code",
   "execution_count": 4,
   "metadata": {},
   "outputs": [],
   "source": [
    "df = pd.read_csv(url, error_bad_lines=False)\n",
    "df = df.drop(columns=['Lat', 'Long_', 'FIPS'])"
   ]
  },
  {
   "cell_type": "code",
   "execution_count": 5,
   "metadata": {},
   "outputs": [],
   "source": [
    "df_countries = df.groupby(['Country_Region']).sum()\n",
    "df_countries = df_countries[df_countries['Confirmed']>=5000]\n",
    "df_countries['Fatality Rate'] = df_countries['Deaths'] / df_countries['Confirmed'] * 100\n",
    "df_countries = df_countries.sort_values(by='Fatality Rate', ascending=False)"
   ]
  },
  {
   "cell_type": "code",
   "execution_count": 6,
   "metadata": {},
   "outputs": [
    {
     "name": "stdout",
     "output_type": "stream",
     "text": [
      "                Confirmed  Deaths  Recovered  Active  Fatality Rate\n",
      "Country_Region                                                     \n",
      "Italy              105792   12428      15729   77635      11.747580\n",
      "Spain               95923    8464      19259   68200       8.823744\n",
      "Netherlands         12667    1040        253   11374       8.210310\n",
      "United Kingdom      25481    1793        179   23509       7.036616\n",
      "France              52827    3532       9513   39782       6.685975\n",
      "Iran                44605    2898      14656   27051       6.497029\n",
      "Belgium             12775     705       1696   10374       5.518591\n",
      "China               82279    3309      76206    2764       4.021682\n",
      "Brazil               5717     201        127    5389       3.515830\n",
      "Switzerland         16605     433       1823   14349       2.607648\n",
      "Portugal             7443     160         43    7240       2.149671\n",
      "US                 188172    3873       7024       0       2.058223\n",
      "Korea, South         9786     162       5408    4216       1.655426\n",
      "Turkey              13531     214        243   13074       1.581553\n",
      "Austria             10180     128       1095    8957       1.257367\n",
      "Canada               8527     101       1592       0       1.184473\n",
      "Germany             71808     775      16100   54933       1.079267\n",
      "Israel               5358      20        224    5114       0.373274\n"
     ]
    }
   ],
   "source": [
    "print(df_countries)"
   ]
  },
  {
   "cell_type": "code",
   "execution_count": 7,
   "metadata": {},
   "outputs": [],
   "source": [
    "df_countries = df.groupby(['Country_Region']).sum()\n",
    "df_countries = df_countries[df_countries['Recovered']>=1000]\n",
    "df_countries['Recoveries per Death'] = df_countries['Recovered'] / df_countries['Deaths']\n",
    "df_countries = df_countries.sort_values(by='Recoveries per Death', ascending=False)"
   ]
  },
  {
   "cell_type": "code",
   "execution_count": 8,
   "metadata": {},
   "outputs": [
    {
     "name": "stdout",
     "output_type": "stream",
     "text": [
      "                Confirmed  Deaths  Recovered  Active  Recoveries per Death\n",
      "Country_Region                                                            \n",
      "Korea, South         9786     162       5408    4216             33.382716\n",
      "China               82279    3309      76206    2764             23.029918\n",
      "Germany             71808     775      16100   54933             20.774194\n",
      "Canada               8527     101       1592       0             15.762376\n",
      "Austria             10180     128       1095    8957              8.554688\n",
      "Iran                44605    2898      14656   27051              5.057281\n",
      "Switzerland         16605     433       1823   14349              4.210162\n",
      "France              52827    3532       9513   39782              2.693375\n",
      "Belgium             12775     705       1696   10374              2.405674\n",
      "Spain               95923    8464      19259   68200              2.275402\n",
      "US                 188172    3873       7024       0              1.813581\n",
      "Italy              105792   12428      15729   77635              1.265610\n"
     ]
    }
   ],
   "source": [
    "print(df_countries)"
   ]
  },
  {
   "cell_type": "code",
   "execution_count": 9,
   "metadata": {},
   "outputs": [],
   "source": [
    "df_us = df[df['Country_Region']=='US']"
   ]
  },
  {
   "cell_type": "code",
   "execution_count": 10,
   "metadata": {},
   "outputs": [],
   "source": [
    "confirmed_pct = \"{0:.4f}%\".format(df_us['Confirmed'].sum()/331002651*100)\n",
    "deaths_pct = \"{0:.2f}%\".format(df_us['Deaths'].sum()/df_us['Confirmed'].sum()*100)\n",
    "overall_deaths_pct = \"{0:.4f}%\".format(df_us['Deaths'].sum()/331002651*100)"
   ]
  },
  {
   "cell_type": "code",
   "execution_count": 11,
   "metadata": {
    "scrolled": true
   },
   "outputs": [
    {
     "name": "stdout",
     "output_type": "stream",
     "text": [
      "There have been 188172 confirmed cases of COVID-19 in the US.\n",
      "There have been 3873 deaths from COVID-19 in the US.\n",
      "An American has a 0.0568% percent chance of having had a confirmed case of COVID-19.\n",
      "An American has a 2.06% percent chance of having died from a confirmed case of COVID-19.\n",
      "An American has a 0.0012% percent chance of having died from COVID-19.\n"
     ]
    }
   ],
   "source": [
    "print('There have been %d confirmed cases of COVID-19 in the US.' % df_us['Confirmed'].sum())\n",
    "print('There have been %d deaths from COVID-19 in the US.' % df_us['Deaths'].sum())\n",
    "print('An American has a %s percent chance of having had a confirmed case of COVID-19.' % confirmed_pct)\n",
    "print('An American has a %s percent chance of having died from a confirmed case of COVID-19.' % deaths_pct)\n",
    "print('An American has a %s percent chance of having died from COVID-19.' % overall_deaths_pct)"
   ]
  },
  {
   "cell_type": "code",
   "execution_count": 12,
   "metadata": {},
   "outputs": [],
   "source": [
    "df_mn = df[df['Province_State']=='Minnesota']"
   ]
  },
  {
   "cell_type": "code",
   "execution_count": 13,
   "metadata": {},
   "outputs": [],
   "source": [
    "confirmed_pct = \"{0:.4f}%\".format(df_mn['Confirmed'].sum()/5700000*100)\n",
    "deaths_pct = \"{0:.2f}%\".format(df_mn['Deaths'].sum()/df_mn['Confirmed'].sum()*100)\n",
    "overall_deaths_pct = \"{0:.4f}%\".format(df_mn['Deaths'].sum()/5700000*100)"
   ]
  },
  {
   "cell_type": "code",
   "execution_count": 14,
   "metadata": {},
   "outputs": [
    {
     "name": "stdout",
     "output_type": "stream",
     "text": [
      "There have been 629 confirmed cases of COVID-19 in Minnesota.\n",
      "There have been 12 deaths from COVID-19 in Minnesota.\n",
      "A Minnesotan has a 0.0110% percent chance of having had a confirmed case of COVID-19.\n",
      "A Minnesotan has a 1.91% percent chance of having died from a confirmed case of COVID-19.\n",
      "A Minnesotan has a 0.0002% percent chance of having died from COVID-19.\n"
     ]
    }
   ],
   "source": [
    "print('There have been %d confirmed cases of COVID-19 in Minnesota.' % df_mn['Confirmed'].sum())\n",
    "print('There have been %d deaths from COVID-19 in Minnesota.' % df_mn['Deaths'].sum())\n",
    "print('A Minnesotan has a %s percent chance of having had a confirmed case of COVID-19.' % confirmed_pct)\n",
    "print('A Minnesotan has a %s percent chance of having died from a confirmed case of COVID-19.' % deaths_pct)\n",
    "print('A Minnesotan has a %s percent chance of having died from COVID-19.' % overall_deaths_pct)"
   ]
  }
 ],
 "metadata": {
  "kernelspec": {
   "display_name": "Python 3",
   "language": "python",
   "name": "python3"
  },
  "language_info": {
   "codemirror_mode": {
    "name": "ipython",
    "version": 3
   },
   "file_extension": ".py",
   "mimetype": "text/x-python",
   "name": "python",
   "nbconvert_exporter": "python",
   "pygments_lexer": "ipython3",
   "version": "3.7.6"
  }
 },
 "nbformat": 4,
 "nbformat_minor": 4
}
