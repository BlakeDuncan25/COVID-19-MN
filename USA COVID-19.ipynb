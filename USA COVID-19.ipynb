{
 "cells": [
  {
   "cell_type": "code",
   "execution_count": 1,
   "metadata": {},
   "outputs": [],
   "source": [
    "import pandas as pd\n",
    "from datetime import datetime, timedelta"
   ]
  },
  {
   "cell_type": "code",
   "execution_count": 2,
   "metadata": {},
   "outputs": [],
   "source": [
    "date_today = (datetime.today() - timedelta(days=1)).strftime(\"%m-%d-%Y\")"
   ]
  },
  {
   "cell_type": "code",
   "execution_count": 3,
   "metadata": {},
   "outputs": [],
   "source": [
    "url = f'https://raw.githubusercontent.com/CSSEGISandData/COVID-19/master/csse_covid_19_data/csse_covid_19_daily_reports/{date_today}.csv'"
   ]
  },
  {
   "cell_type": "code",
   "execution_count": 4,
   "metadata": {},
   "outputs": [],
   "source": [
    "df = pd.read_csv(url, error_bad_lines=False)\n",
    "df = df.drop(columns=['Lat', 'Long_', 'FIPS'])"
   ]
  },
  {
   "cell_type": "code",
   "execution_count": 5,
   "metadata": {},
   "outputs": [],
   "source": [
    "df_countries = df.groupby(['Country_Region']).sum()\n",
    "df_countries = df_countries[df_countries['Confirmed']>=1000]\n",
    "df_countries['Fatality Rate'] = df_countries['Deaths'] / df_countries['Confirmed'] * 100\n",
    "df_countries = df_countries.sort_values(by='Fatality Rate', ascending=False)"
   ]
  },
  {
   "cell_type": "code",
   "execution_count": 6,
   "metadata": {},
   "outputs": [
    {
     "name": "stdout",
     "output_type": "stream",
     "text": [
      "                Confirmed  Deaths  Recovered  Active  Fatality Rate\n",
      "Country_Region                                                     \n",
      "Italy               74386    7503       9362   57521      10.086575\n",
      "Iran                27017    2077       9625   15315       7.687752\n",
      "Spain               49515    3647       5367   40501       7.365445\n",
      "Netherlands          6438     357          4    6077       5.545200\n",
      "France              25600    1333       3907   20360       5.207031\n",
      "United Kingdom       9640     466        140    9034       4.834025\n",
      "China               81661    3285      73773    4603       4.022728\n",
      "Belgium              4937     178        547    4212       3.605428\n",
      "Japan                1307      45        310     952       3.442999\n",
      "Sweden               2526      62         16    2448       2.454473\n",
      "Turkey               2433      59         26    2348       2.424990\n",
      "Ecuador              1173      28          3    1142       2.387042\n",
      "Brazil               2554      59          2    2493       2.310102\n",
      "Denmark              1862      34         41    1787       1.825994\n",
      "Portugal             2995      43         22    2930       1.435726\n",
      "US                  65778     942        361       0       1.432090\n",
      "Switzerland         10897     153        131   10613       1.404056\n",
      "Korea, South         9137     126       3730    5281       1.379008\n",
      "Poland               1051      14          7    1030       1.332065\n",
      "Malaysia             1796      20        199    1577       1.113586\n",
      "Canada               3251      30        183       0       0.922793\n",
      "Pakistan             1063       8         21    1034       0.752587\n",
      "Luxembourg           1333       8          6    1319       0.600150\n",
      "Ireland              1564       9          5    1550       0.575448\n",
      "Germany             37323     206       3547   33570       0.551938\n",
      "Austria              5588      30          9    5549       0.536865\n",
      "Norway               3084      14          6    3064       0.453956\n",
      "Czechia              1654       6         10    1638       0.362757\n",
      "Australia            2364       8        119    2237       0.338409\n",
      "Chile                1142       3         22    1117       0.262697\n",
      "Israel               2369       5         58    2306       0.211060\n"
     ]
    }
   ],
   "source": [
    "print(df_countries)"
   ]
  },
  {
   "cell_type": "code",
   "execution_count": 7,
   "metadata": {},
   "outputs": [],
   "source": [
    "df_countries = df.groupby(['Country_Region']).sum()\n",
    "df_countries = df_countries[df_countries['Recovered']>=1000]\n",
    "df_countries['Recoveries per Death'] = df_countries['Recovered'] / df_countries['Deaths']\n",
    "df_countries = df_countries.sort_values(by='Recoveries per Death', ascending=False)"
   ]
  },
  {
   "cell_type": "code",
   "execution_count": 8,
   "metadata": {},
   "outputs": [
    {
     "name": "stdout",
     "output_type": "stream",
     "text": [
      "                Confirmed  Deaths  Recovered  Active  Recoveries per Death\n",
      "Country_Region                                                            \n",
      "Korea, South         9137     126       3730    5281             29.603175\n",
      "China               81661    3285      73773    4603             22.457534\n",
      "Germany             37323     206       3547   33570             17.218447\n",
      "Iran                27017    2077       9625   15315              4.634088\n",
      "France              25600    1333       3907   20360              2.930983\n",
      "Spain               49515    3647       5367   40501              1.471621\n",
      "Italy               74386    7503       9362   57521              1.247768\n"
     ]
    }
   ],
   "source": [
    "print(df_countries)"
   ]
  },
  {
   "cell_type": "code",
   "execution_count": 9,
   "metadata": {},
   "outputs": [],
   "source": [
    "df_us = df[df['Country_Region']=='US']"
   ]
  },
  {
   "cell_type": "code",
   "execution_count": 10,
   "metadata": {},
   "outputs": [],
   "source": [
    "confirmed_pct = \"{0:.4f}%\".format(df_us['Confirmed'].sum()/331002651*100)\n",
    "deaths_pct = \"{0:.2f}%\".format(df_us['Deaths'].sum()/df_us['Confirmed'].sum()*100)\n",
    "overall_deaths_pct = \"{0:.4f}%\".format(df_us['Deaths'].sum()/331002651*100)"
   ]
  },
  {
   "cell_type": "code",
   "execution_count": 11,
   "metadata": {
    "scrolled": true
   },
   "outputs": [
    {
     "name": "stdout",
     "output_type": "stream",
     "text": [
      "There have been 65778 confirmed cases of COVID-19 in the US.\n",
      "There have been 942 deaths from COVID-19 in the US.\n",
      "An American has a 0.0199% percent chance of having had a confirmed case of COVID-19.\n",
      "An American has a 1.43% percent chance of having died from a confirmed case of COVID-19.\n",
      "An American has a 0.0003% percent chance of having died from COVID-19.\n"
     ]
    }
   ],
   "source": [
    "print('There have been %d confirmed cases of COVID-19 in the US.' % df_us['Confirmed'].sum())\n",
    "print('There have been %d deaths from COVID-19 in the US.' % df_us['Deaths'].sum())\n",
    "print('An American has a %s percent chance of having had a confirmed case of COVID-19.' % confirmed_pct)\n",
    "print('An American has a %s percent chance of having died from a confirmed case of COVID-19.' % deaths_pct)\n",
    "print('An American has a %s percent chance of having died from COVID-19.' % overall_deaths_pct)"
   ]
  },
  {
   "cell_type": "code",
   "execution_count": 12,
   "metadata": {},
   "outputs": [],
   "source": [
    "df_mn = df[df['Province_State']=='Minnesota']"
   ]
  },
  {
   "cell_type": "code",
   "execution_count": 13,
   "metadata": {},
   "outputs": [],
   "source": [
    "confirmed_pct = \"{0:.4f}%\".format(df_mn['Confirmed'].sum()/5700000*100)\n",
    "deaths_pct = \"{0:.2f}%\".format(df_mn['Deaths'].sum()/df_mn['Confirmed'].sum()*100)\n",
    "overall_deaths_pct = \"{0:.4f}%\".format(df_mn['Deaths'].sum()/5700000*100)"
   ]
  },
  {
   "cell_type": "code",
   "execution_count": 14,
   "metadata": {},
   "outputs": [
    {
     "name": "stdout",
     "output_type": "stream",
     "text": [
      "There have been 286 confirmed cases of COVID-19 in Minnesota.\n",
      "There have been 1 deaths from COVID-19 in Minnesota.\n",
      "A Minnesotan has a 0.0050% percent chance of having had a confirmed case of COVID-19.\n",
      "A Minnesotan has a 0.35% percent chance of having died from a confirmed case of COVID-19.\n",
      "A Minnesotan has a 0.0000% percent chance of having died from COVID-19.\n"
     ]
    }
   ],
   "source": [
    "print('There have been %d confirmed cases of COVID-19 in Minnesota.' % df_mn['Confirmed'].sum())\n",
    "print('There have been %d deaths from COVID-19 in Minnesota.' % df_mn['Deaths'].sum())\n",
    "print('A Minnesotan has a %s percent chance of having had a confirmed case of COVID-19.' % confirmed_pct)\n",
    "print('A Minnesotan has a %s percent chance of having died from a confirmed case of COVID-19.' % deaths_pct)\n",
    "print('A Minnesotan has a %s percent chance of having died from COVID-19.' % overall_deaths_pct)"
   ]
  }
 ],
 "metadata": {
  "kernelspec": {
   "display_name": "Python 3",
   "language": "python",
   "name": "python3"
  },
  "language_info": {
   "codemirror_mode": {
    "name": "ipython",
    "version": 3
   },
   "file_extension": ".py",
   "mimetype": "text/x-python",
   "name": "python",
   "nbconvert_exporter": "python",
   "pygments_lexer": "ipython3",
   "version": "3.7.6"
  }
 },
 "nbformat": 4,
 "nbformat_minor": 4
}
