{
 "cells": [
  {
   "cell_type": "code",
   "execution_count": 1,
   "metadata": {},
   "outputs": [],
   "source": [
    "import pandas as pd\n",
    "from datetime import datetime, timedelta\n",
    "pd.options.mode.chained_assignment = None  # default='warn'\n",
    "pd.options.display.float_format = '{:.1f}'.format"
   ]
  },
  {
   "cell_type": "code",
   "execution_count": 2,
   "metadata": {},
   "outputs": [],
   "source": [
    "date_today = (datetime.today() - timedelta(days=1)).strftime(\"%m-%d-%Y\")"
   ]
  },
  {
   "cell_type": "code",
   "execution_count": 3,
   "metadata": {},
   "outputs": [],
   "source": [
    "url = f'https://raw.githubusercontent.com/CSSEGISandData/COVID-19/master/csse_covid_19_data/csse_covid_19_daily_reports/{date_today}.csv'"
   ]
  },
  {
   "cell_type": "code",
   "execution_count": 4,
   "metadata": {},
   "outputs": [],
   "source": [
    "df = pd.read_csv(url, error_bad_lines=False)\n",
    "df = df.drop(columns=['Lat', 'Long_', 'FIPS'])"
   ]
  },
  {
   "cell_type": "code",
   "execution_count": 5,
   "metadata": {},
   "outputs": [],
   "source": [
    "# Estimate the % of cases being reported\n",
    "# FiveThirtyEight has experts estimating around 9-12% of cases are being reported.\n",
    "percent_estimate = 0.12"
   ]
  },
  {
   "cell_type": "code",
   "execution_count": 6,
   "metadata": {},
   "outputs": [],
   "source": [
    "df['Estimated Cases'] = df['Confirmed'] * (1/percent_estimate)"
   ]
  },
  {
   "cell_type": "code",
   "execution_count": 7,
   "metadata": {},
   "outputs": [],
   "source": [
    "df_countries = df.groupby(['Country_Region']).sum()\n",
    "df_countries = df_countries.drop(columns=['Estimated Cases', 'Recovered', 'Active'])\n",
    "df_countries = df_countries[df_countries['Confirmed']>=10000]\n",
    "df_countries['Fatality Rate'] = df_countries['Deaths'] / df_countries['Confirmed'] * 100\n",
    "df_countries = df_countries.sort_values(by='Fatality Rate', ascending=False)"
   ]
  },
  {
   "cell_type": "code",
   "execution_count": 8,
   "metadata": {},
   "outputs": [
    {
     "name": "stdout",
     "output_type": "stream",
     "text": [
      "                Confirmed  Deaths  Fatality Rate\n",
      "Country_Region                                  \n",
      "Belgium             40956    5998           14.6\n",
      "Italy              183957   24648           13.4\n",
      "United Kingdom     130172   17378           13.4\n",
      "France             159297   20829           13.1\n",
      "Sweden              15322    1765           11.5\n",
      "Netherlands         34317    3929           11.4\n",
      "Spain              204178   21282           10.4\n",
      "Brazil              43079    2741            6.4\n",
      "Iran                84802    5297            6.2\n",
      "China               83853    4636            5.5\n",
      "US                 823786   44845            5.4\n",
      "Switzerland         28063    1478            5.3\n",
      "Ecuador             10398     520            5.0\n",
      "Canada              39402    1909            4.8\n",
      "Ireland             16040     730            4.6\n",
      "Portugal            21379     762            3.6\n",
      "Germany            148291    5033            3.4\n",
      "Austria             14873     491            3.3\n",
      "India               20080     645            3.2\n",
      "Peru                17837     484            2.7\n",
      "Turkey              95591    2259            2.4\n",
      "Japan               11135     263            2.4\n",
      "Korea, South        10683     237            2.2\n",
      "Chile               10832     147            1.4\n",
      "Israel              13942     184            1.3\n",
      "Saudi Arabia        11631     109            0.9\n",
      "Russia              52763     456            0.9\n"
     ]
    }
   ],
   "source": [
    "print(df_countries)"
   ]
  },
  {
   "cell_type": "code",
   "execution_count": 9,
   "metadata": {},
   "outputs": [],
   "source": [
    "df_countries = df.groupby(['Country_Region']).sum()\n",
    "df_countries = df_countries.drop(columns=['Confirmed', 'Estimated Cases', 'Active'])\n",
    "df_countries = df_countries[df_countries['Recovered']>=5000]\n",
    "df_countries['Recoveries per Death'] = df_countries['Recovered'] / df_countries['Deaths']\n",
    "df_countries = df_countries.sort_values(by='Recoveries per Death', ascending=False)"
   ]
  },
  {
   "cell_type": "code",
   "execution_count": 10,
   "metadata": {},
   "outputs": [
    {
     "name": "stdout",
     "output_type": "stream",
     "text": [
      "                Deaths  Recovered  Recoveries per Death\n",
      "Country_Region                                         \n",
      "Korea, South       237       8213                  34.7\n",
      "Austria            491      10971                  22.3\n",
      "Germany           5033      95200                  18.9\n",
      "China             4636      77799                  16.8\n",
      "Peru               484       6982                  14.4\n",
      "Switzerland       1478      19400                  13.1\n",
      "Ireland            730       9233                  12.6\n",
      "Iran              5297      60965                  11.5\n",
      "Brazil            2741      22991                   8.4\n",
      "Canada            1909      13188                   6.9\n",
      "Turkey            2259      14918                   6.6\n",
      "Spain            21282      82514                   3.9\n",
      "Italy            24648      51600                   2.1\n",
      "France           20829      39819                   1.9\n",
      "US               44845      75204                   1.7\n",
      "Belgium           5998       9002                   1.5\n"
     ]
    }
   ],
   "source": [
    "print(df_countries)"
   ]
  },
  {
   "cell_type": "code",
   "execution_count": 11,
   "metadata": {},
   "outputs": [],
   "source": [
    "df_us = df[df['Country_Region']=='US']"
   ]
  },
  {
   "cell_type": "code",
   "execution_count": 12,
   "metadata": {},
   "outputs": [],
   "source": [
    "confirmed_pct = \"{0:.2f}%\".format(df_us['Confirmed'].sum()/331002651*100)\n",
    "deaths_pct = \"{0:.2f}%\".format(df_us['Deaths'].sum()/df_us['Confirmed'].sum()*100)"
   ]
  },
  {
   "cell_type": "code",
   "execution_count": 13,
   "metadata": {},
   "outputs": [],
   "source": [
    "est_confirmed_pct = \"{0:.2f}%\".format(df_us['Estimated Cases'].sum()/331002651*100)\n",
    "est_deaths_pct = \"{0:.2f}%\".format(df_us['Deaths'].sum()/df_us['Estimated Cases'].sum()*100)"
   ]
  },
  {
   "cell_type": "code",
   "execution_count": 14,
   "metadata": {
    "scrolled": true
   },
   "outputs": [
    {
     "name": "stdout",
     "output_type": "stream",
     "text": [
      "There have been 823786 confirmed cases of COVID-19 in the US.\n",
      "There have been 44845 deaths from COVID-19 in the US.\n",
      "An American has a 0.25% percent chance of having had a confirmed case of COVID-19.\n",
      "An American has a 5.44% percent chance of having died from a confirmed case of COVID-19.\n"
     ]
    }
   ],
   "source": [
    "print('There have been %d confirmed cases of COVID-19 in the US.' % df_us['Confirmed'].sum())\n",
    "print('There have been %d deaths from COVID-19 in the US.' % df_us['Deaths'].sum())\n",
    "print('An American has a %s percent chance of having had a confirmed case of COVID-19.' % confirmed_pct)\n",
    "print('An American has a %s percent chance of having died from a confirmed case of COVID-19.' % deaths_pct)"
   ]
  },
  {
   "cell_type": "code",
   "execution_count": 15,
   "metadata": {},
   "outputs": [
    {
     "name": "stdout",
     "output_type": "stream",
     "text": [
      "Experts estimate there have been 6864883 cases of COVID-19 in the US.\n",
      "With estimated numbers an American has a 2.07% percent chance of having had COVID-19\n",
      "The estimated numbers give us a fatality rate of 0.65% in the US\n"
     ]
    }
   ],
   "source": [
    "print('Experts estimate there have been %d cases of COVID-19 in the US.' % df_us['Estimated Cases'].sum())\n",
    "print('With estimated numbers an American has a %s percent chance of having had COVID-19' % est_confirmed_pct)\n",
    "print('The estimated numbers give us a fatality rate of %s in the US' % est_deaths_pct)"
   ]
  },
  {
   "cell_type": "code",
   "execution_count": 16,
   "metadata": {},
   "outputs": [],
   "source": [
    "df_mn = df[df['Province_State']=='Minnesota']"
   ]
  },
  {
   "cell_type": "code",
   "execution_count": 17,
   "metadata": {},
   "outputs": [],
   "source": [
    "confirmed_pct = \"{0:.2f}%\".format(df_mn['Confirmed'].sum()/5700000*100)\n",
    "deaths_pct = \"{0:.2f}%\".format(df_mn['Deaths'].sum()/df_mn['Confirmed'].sum()*100)"
   ]
  },
  {
   "cell_type": "code",
   "execution_count": 18,
   "metadata": {},
   "outputs": [],
   "source": [
    "est_confirmed_pct = \"{0:.2f}%\".format(df_mn['Estimated Cases'].sum()/5700000*100)\n",
    "est_deaths_pct = \"{0:.2f}%\".format(df_mn['Deaths'].sum()/df_mn['Estimated Cases'].sum()*100)"
   ]
  },
  {
   "cell_type": "code",
   "execution_count": 19,
   "metadata": {},
   "outputs": [
    {
     "name": "stdout",
     "output_type": "stream",
     "text": [
      "There have been 2567 confirmed cases of COVID-19 in Minnesota.\n",
      "There have been 160 deaths from COVID-19 in Minnesota.\n",
      "A Minnesotan has a 0.05% percent chance of having had a confirmed case of COVID-19.\n",
      "A Minnesotan has a 6.23% percent chance of having died from a confirmed case of COVID-19.\n"
     ]
    }
   ],
   "source": [
    "print('There have been %d confirmed cases of COVID-19 in Minnesota.' % df_mn['Confirmed'].sum())\n",
    "print('There have been %d deaths from COVID-19 in Minnesota.' % df_mn['Deaths'].sum())\n",
    "print('A Minnesotan has a %s percent chance of having had a confirmed case of COVID-19.' % confirmed_pct)\n",
    "print('A Minnesotan has a %s percent chance of having died from a confirmed case of COVID-19.' % deaths_pct)"
   ]
  },
  {
   "cell_type": "code",
   "execution_count": 20,
   "metadata": {},
   "outputs": [
    {
     "name": "stdout",
     "output_type": "stream",
     "text": [
      "Experts estimate there have been 21391 cases of COVID-19 in MN.\n",
      "With estimated numbers a Minnesotan has a 0.38% percent chance of having had COVID-19\n",
      "The estimated numbers give us a fatality rate of 0.75% in MN\n"
     ]
    }
   ],
   "source": [
    "print('Experts estimate there have been %d cases of COVID-19 in MN.' % df_mn['Estimated Cases'].sum())\n",
    "print('With estimated numbers a Minnesotan has a %s percent chance of having had COVID-19' % est_confirmed_pct)\n",
    "print('The estimated numbers give us a fatality rate of %s in MN' % est_deaths_pct)"
   ]
  }
 ],
 "metadata": {
  "kernelspec": {
   "display_name": "Python 3",
   "language": "python",
   "name": "python3"
  },
  "language_info": {
   "codemirror_mode": {
    "name": "ipython",
    "version": 3
   },
   "file_extension": ".py",
   "mimetype": "text/x-python",
   "name": "python",
   "nbconvert_exporter": "python",
   "pygments_lexer": "ipython3",
   "version": "3.7.1"
  }
 },
 "nbformat": 4,
 "nbformat_minor": 4
}
