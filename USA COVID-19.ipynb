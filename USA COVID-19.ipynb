{
 "cells": [
  {
   "cell_type": "code",
   "execution_count": 1,
   "metadata": {},
   "outputs": [],
   "source": [
    "import pandas as pd\n",
    "from datetime import datetime, timedelta\n",
    "pd.options.mode.chained_assignment = None  # default='warn'\n",
    "pd.options.display.float_format = '{:.1f}'.format"
   ]
  },
  {
   "cell_type": "code",
   "execution_count": 2,
   "metadata": {},
   "outputs": [],
   "source": [
    "date_today = (datetime.today() - timedelta(days=1)).strftime(\"%m-%d-%Y\")"
   ]
  },
  {
   "cell_type": "code",
   "execution_count": 3,
   "metadata": {},
   "outputs": [],
   "source": [
    "url = f'https://raw.githubusercontent.com/CSSEGISandData/COVID-19/master/csse_covid_19_data/csse_covid_19_daily_reports/{date_today}.csv'"
   ]
  },
  {
   "cell_type": "code",
   "execution_count": 4,
   "metadata": {},
   "outputs": [],
   "source": [
    "df = pd.read_csv(url, error_bad_lines=False)\n",
    "df = df.drop(columns=['Lat', 'Long_', 'FIPS'])"
   ]
  },
  {
   "cell_type": "code",
   "execution_count": 5,
   "metadata": {},
   "outputs": [],
   "source": [
    "# Estimate the % of cases being reported\n",
    "# FiveThirtyEight has experts estimating around 9-12% of cases are being reported.\n",
    "percent_estimate = 0.12"
   ]
  },
  {
   "cell_type": "code",
   "execution_count": 6,
   "metadata": {},
   "outputs": [],
   "source": [
    "df['Estimated Cases'] = df['Confirmed'] * (1/percent_estimate)"
   ]
  },
  {
   "cell_type": "code",
   "execution_count": 7,
   "metadata": {},
   "outputs": [],
   "source": [
    "df_countries = df.groupby(['Country_Region']).sum()\n",
    "df_countries = df_countries.drop(columns=['Estimated Cases', 'Recovered', 'Active'])\n",
    "df_countries = df_countries[df_countries['Confirmed']>=25000]\n",
    "df_countries['Fatality Rate'] = df_countries['Deaths'] / df_countries['Confirmed'] * 100\n",
    "df_countries = df_countries.sort_values(by='Fatality Rate', ascending=False)"
   ]
  },
  {
   "cell_type": "code",
   "execution_count": 8,
   "metadata": {},
   "outputs": [
    {
     "name": "stdout",
     "output_type": "stream",
     "text": [
      "                Confirmed  Deaths  Fatality Rate\n",
      "Country_Region                                  \n",
      "Belgium             49517    7765           15.7\n",
      "United Kingdom     183500   28205           15.4\n",
      "France             168518   24763           14.7\n",
      "Italy              209328   28710           13.7\n",
      "Netherlands         40434    5003           12.4\n",
      "Spain              216582   25100           11.6\n",
      "Brazil              97100    6761            7.0\n",
      "Iran                96448    6156            6.4\n",
      "Canada              57926    3684            6.4\n",
      "Switzerland         29817    1762            5.9\n",
      "US                1132539   66369            5.9\n",
      "China               83959    4637            5.5\n",
      "Ecuador             27464    1371            5.0\n",
      "Germany            164967    6812            4.1\n",
      "Portugal            25190    1023            4.1\n",
      "India               39699    1323            3.3\n",
      "Peru                42534    1200            2.8\n",
      "Turkey             124375    3336            2.7\n",
      "Russia             124054    1222            1.0\n",
      "Saudi Arabia        25459     176            0.7\n"
     ]
    }
   ],
   "source": [
    "print(df_countries)"
   ]
  },
  {
   "cell_type": "code",
   "execution_count": 9,
   "metadata": {},
   "outputs": [],
   "source": [
    "df_countries = df.groupby(['Country_Region']).sum()\n",
    "df_countries = df_countries.drop(columns=['Confirmed', 'Estimated Cases', 'Active'])\n",
    "df_countries = df_countries[df_countries['Recovered']>=10000]\n",
    "df_countries['Recoveries per Death'] = df_countries['Recovered'] / df_countries['Deaths']\n",
    "df_countries = df_countries.sort_values(by='Recoveries per Death', ascending=False)"
   ]
  },
  {
   "cell_type": "code",
   "execution_count": 10,
   "metadata": {},
   "outputs": [
    {
     "name": "stdout",
     "output_type": "stream",
     "text": [
      "                Deaths  Recovered  Recoveries per Death\n",
      "Country_Region                                         \n",
      "Austria            596      13180                  22.1\n",
      "Germany           6812     129000                  18.9\n",
      "Turkey            3336      58259                  17.5\n",
      "China             4637      78586                  16.9\n",
      "Switzerland       1762      24200                  13.7\n",
      "Iran              6156      77350                  12.6\n",
      "Russia            1222      15013                  12.3\n",
      "Ireland           1286      13386                  10.4\n",
      "Peru              1200      12434                  10.4\n",
      "India             1323      10819                   8.2\n",
      "Canada            3684      23814                   6.5\n",
      "Brazil            6761      40937                   6.1\n",
      "Mexico            2061      12377                   6.0\n",
      "Spain            25100     117248                   4.7\n",
      "Italy            28710      79914                   2.8\n",
      "US               66369     175382                   2.6\n",
      "France           24763      50663                   2.0\n",
      "Belgium           7765      12211                   1.6\n"
     ]
    }
   ],
   "source": [
    "print(df_countries)"
   ]
  },
  {
   "cell_type": "code",
   "execution_count": 11,
   "metadata": {},
   "outputs": [],
   "source": [
    "df_us = df[df['Country_Region']=='US']"
   ]
  },
  {
   "cell_type": "code",
   "execution_count": 12,
   "metadata": {},
   "outputs": [],
   "source": [
    "confirmed_pct = \"{0:.2f}%\".format(df_us['Confirmed'].sum()/331002651*100)\n",
    "deaths_pct = \"{0:.2f}%\".format(df_us['Deaths'].sum()/df_us['Confirmed'].sum()*100)"
   ]
  },
  {
   "cell_type": "code",
   "execution_count": 13,
   "metadata": {},
   "outputs": [],
   "source": [
    "est_confirmed_pct = \"{0:.2f}%\".format(df_us['Estimated Cases'].sum()/331002651*100)\n",
    "est_deaths_pct = \"{0:.2f}%\".format(df_us['Deaths'].sum()/df_us['Estimated Cases'].sum()*100)"
   ]
  },
  {
   "cell_type": "code",
   "execution_count": 14,
   "metadata": {
    "scrolled": true
   },
   "outputs": [
    {
     "name": "stdout",
     "output_type": "stream",
     "text": [
      "There have been 1132539 confirmed cases of COVID-19 in the US.\n",
      "There have been 66369 deaths from COVID-19 in the US.\n",
      "An American has a 0.34% percent chance of having had a confirmed case of COVID-19.\n",
      "An American has a 5.86% percent chance of having died from a confirmed case of COVID-19.\n"
     ]
    }
   ],
   "source": [
    "print('There have been %d confirmed cases of COVID-19 in the US.' % df_us['Confirmed'].sum())\n",
    "print('There have been %d deaths from COVID-19 in the US.' % df_us['Deaths'].sum())\n",
    "print('An American has a %s percent chance of having had a confirmed case of COVID-19.' % confirmed_pct)\n",
    "print('An American has a %s percent chance of having died from a confirmed case of COVID-19.' % deaths_pct)"
   ]
  },
  {
   "cell_type": "code",
   "execution_count": 15,
   "metadata": {},
   "outputs": [
    {
     "name": "stdout",
     "output_type": "stream",
     "text": [
      "Experts estimate there have been 9437825 cases of COVID-19 in the US.\n",
      "With estimated numbers an American has a 2.85% percent chance of having had COVID-19\n",
      "The estimated numbers give us a fatality rate of 0.70% in the US\n"
     ]
    }
   ],
   "source": [
    "print('Experts estimate there have been %d cases of COVID-19 in the US.' % df_us['Estimated Cases'].sum())\n",
    "print('With estimated numbers an American has a %s percent chance of having had COVID-19' % est_confirmed_pct)\n",
    "print('The estimated numbers give us a fatality rate of %s in the US' % est_deaths_pct)"
   ]
  },
  {
   "cell_type": "code",
   "execution_count": 16,
   "metadata": {},
   "outputs": [],
   "source": [
    "df_mn = df[df['Province_State']=='Minnesota']"
   ]
  },
  {
   "cell_type": "code",
   "execution_count": 17,
   "metadata": {},
   "outputs": [],
   "source": [
    "confirmed_pct = \"{0:.2f}%\".format(df_mn['Confirmed'].sum()/5700000*100)\n",
    "deaths_pct = \"{0:.2f}%\".format(df_mn['Deaths'].sum()/df_mn['Confirmed'].sum()*100)"
   ]
  },
  {
   "cell_type": "code",
   "execution_count": 18,
   "metadata": {},
   "outputs": [],
   "source": [
    "est_confirmed_pct = \"{0:.2f}%\".format(df_mn['Estimated Cases'].sum()/5700000*100)\n",
    "est_deaths_pct = \"{0:.2f}%\".format(df_mn['Deaths'].sum()/df_mn['Estimated Cases'].sum()*100)"
   ]
  },
  {
   "cell_type": "code",
   "execution_count": 19,
   "metadata": {},
   "outputs": [
    {
     "name": "stdout",
     "output_type": "stream",
     "text": [
      "There have been 6232 confirmed cases of COVID-19 in Minnesota.\n",
      "There have been 394 deaths from COVID-19 in Minnesota.\n",
      "A Minnesotan has a 0.11% percent chance of having had a confirmed case of COVID-19.\n",
      "A Minnesotan has a 6.32% percent chance of having died from a confirmed case of COVID-19.\n"
     ]
    }
   ],
   "source": [
    "print('There have been %d confirmed cases of COVID-19 in Minnesota.' % df_mn['Confirmed'].sum())\n",
    "print('There have been %d deaths from COVID-19 in Minnesota.' % df_mn['Deaths'].sum())\n",
    "print('A Minnesotan has a %s percent chance of having had a confirmed case of COVID-19.' % confirmed_pct)\n",
    "print('A Minnesotan has a %s percent chance of having died from a confirmed case of COVID-19.' % deaths_pct)"
   ]
  },
  {
   "cell_type": "code",
   "execution_count": 20,
   "metadata": {},
   "outputs": [
    {
     "name": "stdout",
     "output_type": "stream",
     "text": [
      "Experts estimate there have been 51933 cases of COVID-19 in MN.\n",
      "With estimated numbers a Minnesotan has a 0.91% percent chance of having had COVID-19\n",
      "The estimated numbers give us a fatality rate of 0.76% in MN\n"
     ]
    }
   ],
   "source": [
    "print('Experts estimate there have been %d cases of COVID-19 in MN.' % df_mn['Estimated Cases'].sum())\n",
    "print('With estimated numbers a Minnesotan has a %s percent chance of having had COVID-19' % est_confirmed_pct)\n",
    "print('The estimated numbers give us a fatality rate of %s in MN' % est_deaths_pct)"
   ]
  }
 ],
 "metadata": {
  "kernelspec": {
   "display_name": "Python 3",
   "language": "python",
   "name": "python3"
  },
  "language_info": {
   "codemirror_mode": {
    "name": "ipython",
    "version": 3
   },
   "file_extension": ".py",
   "mimetype": "text/x-python",
   "name": "python",
   "nbconvert_exporter": "python",
   "pygments_lexer": "ipython3",
   "version": "3.7.6"
  }
 },
 "nbformat": 4,
 "nbformat_minor": 4
}
