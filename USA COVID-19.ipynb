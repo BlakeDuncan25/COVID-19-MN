{
 "cells": [
  {
   "cell_type": "code",
   "execution_count": 1,
   "metadata": {},
   "outputs": [],
   "source": [
    "import pandas as pd\n",
    "from datetime import datetime, timedelta\n",
    "pd.options.mode.chained_assignment = None  # default='warn'\n",
    "pd.options.display.float_format = '{:.1f}'.format"
   ]
  },
  {
   "cell_type": "code",
   "execution_count": 2,
   "metadata": {},
   "outputs": [],
   "source": [
    "date_today = (datetime.today() - timedelta(days=1)).strftime(\"%m-%d-%Y\")"
   ]
  },
  {
   "cell_type": "code",
   "execution_count": 3,
   "metadata": {},
   "outputs": [],
   "source": [
    "url = f'https://raw.githubusercontent.com/CSSEGISandData/COVID-19/master/csse_covid_19_data/csse_covid_19_daily_reports/{date_today}.csv'"
   ]
  },
  {
   "cell_type": "code",
   "execution_count": 4,
   "metadata": {},
   "outputs": [],
   "source": [
    "df = pd.read_csv(url, error_bad_lines=False)\n",
    "df = df.drop(columns=['Lat', 'Long_', 'FIPS'])"
   ]
  },
  {
   "cell_type": "code",
   "execution_count": 5,
   "metadata": {},
   "outputs": [],
   "source": [
    "# Estimate the % of cases being reported\n",
    "# FiveThirtyEight has experts estimating around 9-12% of cases are being reported.\n",
    "percent_estimate = 0.12"
   ]
  },
  {
   "cell_type": "code",
   "execution_count": 6,
   "metadata": {},
   "outputs": [],
   "source": [
    "df['Estimated Cases'] = df['Confirmed'] * (1/percent_estimate)"
   ]
  },
  {
   "cell_type": "code",
   "execution_count": 7,
   "metadata": {},
   "outputs": [],
   "source": [
    "df_countries = df.groupby(['Country_Region']).sum()\n",
    "df_countries = df_countries.drop(columns=['Estimated Cases', 'Recovered', 'Active', 'Incidence_Rate', 'Case-Fatality_Ratio'])\n",
    "df_countries = df_countries[df_countries['Confirmed']>=50000]\n",
    "df_countries['Fatality Rate'] = df_countries['Deaths'] / df_countries['Confirmed'] * 100\n",
    "df_countries = df_countries.sort_values(by='Fatality Rate', ascending=False)"
   ]
  },
  {
   "cell_type": "code",
   "execution_count": 8,
   "metadata": {},
   "outputs": [
    {
     "name": "stdout",
     "output_type": "stream",
     "text": [
      "                      Confirmed  Deaths  Fatality Rate\n",
      "Country_Region                                        \n",
      "United Kingdom           313394   46611           14.9\n",
      "Italy                    251237   35215           14.0\n",
      "Belgium                   75008    9885           13.2\n",
      "France                   239355   30328           12.7\n",
      "Mexico                   492522   53929           10.9\n",
      "Netherlands               60940    6180           10.1\n",
      "Spain                    326612   28581            8.8\n",
      "Canada                   122389    9038            7.4\n",
      "Sweden                    83126    5770            6.9\n",
      "Ecuador                   95563    5951            6.2\n",
      "Iran                     331189   18800            5.7\n",
      "Egypt                     95834    5059            5.3\n",
      "China                     88958    4693            5.3\n",
      "Indonesia                128776    5824            4.5\n",
      "Peru                     489680   21501            4.4\n",
      "Romania                   63762    2764            4.3\n",
      "Germany                  219540    9208            4.2\n",
      "Bolivia                   93328    3761            4.0\n",
      "Guatemala                 57966    2233            3.9\n",
      "Iraq                     156995    5531            3.5\n",
      "Poland                    52961    1821            3.4\n",
      "Portugal                  52945    1761            3.3\n",
      "Brazil                  3109630  103026            3.3\n",
      "Colombia                 410453   13475            3.3\n",
      "US                      5141208  164537            3.2\n",
      "Chile                    376616   10178            2.7\n",
      "Turkey                   243180    5873            2.4\n",
      "Ukraine                   85023    1979            2.3\n",
      "Panama                    76464    1680            2.2\n",
      "Pakistan                 285191    6112            2.1\n",
      "Japan                     50302    1058            2.1\n",
      "India                   2329638   46091            2.0\n",
      "Argentina                260911    5004            1.9\n",
      "South Africa             566109   10751            1.9\n",
      "Russia                   895691   15103            1.7\n",
      "Dominican Republic        81094    1346            1.7\n",
      "Philippines              139538    2312            1.7\n",
      "Bangladesh               263503    3471            1.3\n",
      "Kazakhstan               100855    1269            1.3\n",
      "Saudi Arabia             291468    3233            1.1\n",
      "Belarus                   69005     592            0.9\n",
      "Israel                    86593     622            0.7\n",
      "Kuwait                    73068     486            0.7\n",
      "Oman                      82050     533            0.6\n",
      "United Arab Emirates      62966     358            0.6\n",
      "Qatar                    113646     188            0.2\n",
      "Singapore                 55353      27            0.0\n"
     ]
    }
   ],
   "source": [
    "print(df_countries)"
   ]
  },
  {
   "cell_type": "code",
   "execution_count": 9,
   "metadata": {},
   "outputs": [],
   "source": [
    "df_countries = df.groupby(['Country_Region']).sum()\n",
    "df_countries = df_countries.drop(columns=['Confirmed', 'Estimated Cases', 'Active', 'Incidence_Rate', 'Case-Fatality_Ratio'])\n",
    "df_countries = df_countries[df_countries['Recovered']>=25000]\n",
    "df_countries['Recoveries per Death'] = df_countries['Recovered'] / df_countries['Deaths']\n",
    "df_countries = df_countries.sort_values(by='Recoveries per Death', ascending=False)"
   ]
  },
  {
   "cell_type": "code",
   "execution_count": 10,
   "metadata": {},
   "outputs": [
    {
     "name": "stdout",
     "output_type": "stream",
     "text": [
      "                      Deaths  Recovered  Recoveries per Death\n",
      "Country_Region                                               \n",
      "Singapore                 27      50128                1856.6\n",
      "Qatar                    188     110324                 586.8\n",
      "Bahrain                  165      41504                 251.5\n",
      "Ghana                    215      39055                 181.7\n",
      "United Arab Emirates     358      56961                 159.1\n",
      "Oman                     533      76720                 143.9\n",
      "Kuwait                   486      64759                 133.2\n",
      "Belarus                  592      65219                 110.2\n",
      "Israel                   622      60080                  96.6\n",
      "Saudi Arabia            3233     255118                  78.9\n",
      "Azerbaijan               495      30856                  62.3\n",
      "Kazakhstan              1269      74677                  58.8\n",
      "Morocco                  533      25385                  47.6\n",
      "Russia                 15103     701796                  46.5\n",
      "Bangladesh              3471     151972                  43.8\n",
      "Pakistan                6112     261246                  42.7\n",
      "Armenia                  803      33157                  41.3\n",
      "South Africa           10751     426125                  39.6\n",
      "Turkey                  5873     226155                  38.5\n",
      "Argentina               5004     181389                  36.2\n",
      "India                  46091    1639599                  35.6\n",
      "Nigeria                  956      33609                  35.2\n",
      "Chile                  10178     349541                  34.3\n",
      "Dominican Republic      1346      45666                  33.9\n",
      "Japan                   1058      34136                  32.3\n",
      "Panama                  1680      50665                  30.2\n",
      "Philippines             2312      68432                  29.6\n",
      "Brazil                103026    2449338                  23.8\n",
      "Ukraine                 1979      46313                  23.4\n",
      "Kyrgyzstan              1478      32734                  22.1\n",
      "Portugal                1761      38760                  22.0\n",
      "Germany                 9208     198347                  21.5\n",
      "Guatemala               2233      46442                  20.8\n",
      "Poland                  1821      37150                  20.4\n",
      "Iraq                    5531     112102                  20.3\n",
      "Afghanistan             1344      26415                  19.7\n",
      "Algeria                 1322      25263                  19.1\n",
      "China                   4693      82440                  17.6\n",
      "Colombia               13475     230427                  17.1\n",
      "Switzerland             1990      32400                  16.3\n",
      "Iran                   18800     288620                  15.4\n",
      "Peru                   21501     329404                  15.3\n",
      "Indonesia               5824      83710                  14.4\n",
      "Ecuador                 5951      78610                  13.2\n",
      "Canada                  9038     108465                  12.0\n",
      "Romania                 2764      30585                  11.1\n",
      "Egypt                   5059      54888                  10.8\n",
      "US                    164537    1714960                  10.4\n",
      "Bolivia                 3761      31753                   8.4\n",
      "Mexico                 53929     397278                   7.4\n",
      "Italy                  35215     202461                   5.7\n",
      "Spain                  28581     150376                   5.3\n",
      "France                 30328      82971                   2.7\n"
     ]
    }
   ],
   "source": [
    "print(df_countries)"
   ]
  },
  {
   "cell_type": "code",
   "execution_count": 11,
   "metadata": {},
   "outputs": [],
   "source": [
    "df_us = df[df['Country_Region']=='US']"
   ]
  },
  {
   "cell_type": "code",
   "execution_count": 12,
   "metadata": {},
   "outputs": [],
   "source": [
    "confirmed_pct = \"{0:.2f}%\".format(df_us['Confirmed'].sum()/331002651*100)\n",
    "deaths_pct = \"{0:.2f}%\".format(df_us['Deaths'].sum()/df_us['Confirmed'].sum()*100)"
   ]
  },
  {
   "cell_type": "code",
   "execution_count": 13,
   "metadata": {},
   "outputs": [],
   "source": [
    "est_confirmed_pct = \"{0:.2f}%\".format(df_us['Estimated Cases'].sum()/331002651*100)\n",
    "est_deaths_pct = \"{0:.2f}%\".format(df_us['Deaths'].sum()/df_us['Estimated Cases'].sum()*100)"
   ]
  },
  {
   "cell_type": "code",
   "execution_count": 14,
   "metadata": {
    "scrolled": true
   },
   "outputs": [
    {
     "name": "stdout",
     "output_type": "stream",
     "text": [
      "There have been 5141208 confirmed cases of COVID-19 in the US.\n",
      "There have been 164537 deaths from COVID-19 in the US.\n",
      "An American has a 1.55% percent chance of having had a confirmed case of COVID-19.\n",
      "An American has a 3.20% percent chance of having died from a confirmed case of COVID-19.\n"
     ]
    }
   ],
   "source": [
    "print('There have been %d confirmed cases of COVID-19 in the US.' % df_us['Confirmed'].sum())\n",
    "print('There have been %d deaths from COVID-19 in the US.' % df_us['Deaths'].sum())\n",
    "print('An American has a %s percent chance of having had a confirmed case of COVID-19.' % confirmed_pct)\n",
    "print('An American has a %s percent chance of having died from a confirmed case of COVID-19.' % deaths_pct)"
   ]
  },
  {
   "cell_type": "code",
   "execution_count": 15,
   "metadata": {},
   "outputs": [
    {
     "name": "stdout",
     "output_type": "stream",
     "text": [
      "Experts estimate there have been 42843400 cases of COVID-19 in the US.\n",
      "With estimated numbers an American has a 12.94% percent chance of having had COVID-19\n",
      "The estimated numbers give us a fatality rate of 0.38% in the US\n"
     ]
    }
   ],
   "source": [
    "print('Experts estimate there have been %d cases of COVID-19 in the US.' % df_us['Estimated Cases'].sum())\n",
    "print('With estimated numbers an American has a %s percent chance of having had COVID-19' % est_confirmed_pct)\n",
    "print('The estimated numbers give us a fatality rate of %s in the US' % est_deaths_pct)"
   ]
  },
  {
   "cell_type": "code",
   "execution_count": 16,
   "metadata": {},
   "outputs": [],
   "source": [
    "df_mn = df[df['Province_State']=='Minnesota']"
   ]
  },
  {
   "cell_type": "code",
   "execution_count": 17,
   "metadata": {},
   "outputs": [],
   "source": [
    "confirmed_pct = \"{0:.2f}%\".format(df_mn['Confirmed'].sum()/5700000*100)\n",
    "deaths_pct = \"{0:.2f}%\".format(df_mn['Deaths'].sum()/df_mn['Confirmed'].sum()*100)"
   ]
  },
  {
   "cell_type": "code",
   "execution_count": 18,
   "metadata": {},
   "outputs": [],
   "source": [
    "est_confirmed_pct = \"{0:.2f}%\".format(df_mn['Estimated Cases'].sum()/5700000*100)\n",
    "est_deaths_pct = \"{0:.2f}%\".format(df_mn['Deaths'].sum()/df_mn['Estimated Cases'].sum()*100)"
   ]
  },
  {
   "cell_type": "code",
   "execution_count": 19,
   "metadata": {},
   "outputs": [
    {
     "name": "stdout",
     "output_type": "stream",
     "text": [
      "There have been 61839 confirmed cases of COVID-19 in Minnesota.\n",
      "There have been 1707 deaths from COVID-19 in Minnesota.\n",
      "A Minnesotan has a 1.08% percent chance of having had a confirmed case of COVID-19.\n",
      "A Minnesotan has a 2.76% percent chance of having died from a confirmed case of COVID-19.\n"
     ]
    }
   ],
   "source": [
    "print('There have been %d confirmed cases of COVID-19 in Minnesota.' % df_mn['Confirmed'].sum())\n",
    "print('There have been %d deaths from COVID-19 in Minnesota.' % df_mn['Deaths'].sum())\n",
    "print('A Minnesotan has a %s percent chance of having had a confirmed case of COVID-19.' % confirmed_pct)\n",
    "print('A Minnesotan has a %s percent chance of having died from a confirmed case of COVID-19.' % deaths_pct)"
   ]
  },
  {
   "cell_type": "code",
   "execution_count": 20,
   "metadata": {},
   "outputs": [
    {
     "name": "stdout",
     "output_type": "stream",
     "text": [
      "Experts estimate there have been 515325 cases of COVID-19 in MN.\n",
      "With estimated numbers a Minnesotan has a 9.04% percent chance of having had COVID-19\n",
      "The estimated numbers give us a fatality rate of 0.33% in MN\n"
     ]
    }
   ],
   "source": [
    "print('Experts estimate there have been %d cases of COVID-19 in MN.' % df_mn['Estimated Cases'].sum())\n",
    "print('With estimated numbers a Minnesotan has a %s percent chance of having had COVID-19' % est_confirmed_pct)\n",
    "print('The estimated numbers give us a fatality rate of %s in MN' % est_deaths_pct)"
   ]
  }
 ],
 "metadata": {
  "kernelspec": {
   "display_name": "Python 3",
   "language": "python",
   "name": "python3"
  },
  "language_info": {
   "codemirror_mode": {
    "name": "ipython",
    "version": 3
   },
   "file_extension": ".py",
   "mimetype": "text/x-python",
   "name": "python",
   "nbconvert_exporter": "python",
   "pygments_lexer": "ipython3",
   "version": "3.7.6"
  }
 },
 "nbformat": 4,
 "nbformat_minor": 4
}
