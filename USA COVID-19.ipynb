{
 "cells": [
  {
   "cell_type": "code",
   "execution_count": 1,
   "metadata": {},
   "outputs": [],
   "source": [
    "import pandas as pd\n",
    "from datetime import datetime, timedelta"
   ]
  },
  {
   "cell_type": "code",
   "execution_count": 2,
   "metadata": {},
   "outputs": [],
   "source": [
    "date_today = (datetime.today() - timedelta(days=1)).strftime(\"%m-%d-%Y\")"
   ]
  },
  {
   "cell_type": "code",
   "execution_count": 3,
   "metadata": {},
   "outputs": [],
   "source": [
    "url = f'https://raw.githubusercontent.com/CSSEGISandData/COVID-19/master/csse_covid_19_data/csse_covid_19_daily_reports/{date_today}.csv'"
   ]
  },
  {
   "cell_type": "code",
   "execution_count": 4,
   "metadata": {},
   "outputs": [],
   "source": [
    "df = pd.read_csv(url, error_bad_lines=False)\n",
    "df = df.drop(columns=['Latitude', 'Longitude'])"
   ]
  },
  {
   "cell_type": "code",
   "execution_count": 5,
   "metadata": {},
   "outputs": [],
   "source": [
    "df_countries = df.groupby(['Country/Region']).sum()\n",
    "df_countries = df_countries[df_countries['Confirmed']>=1000]\n",
    "df_countries['Fatality Rate'] = df_countries['Deaths'] / df_countries['Confirmed'] * 100\n",
    "df_countries = df_countries.sort_values(by='Fatality Rate', ascending=False)"
   ]
  },
  {
   "cell_type": "code",
   "execution_count": 6,
   "metadata": {},
   "outputs": [
    {
     "name": "stdout",
     "output_type": "stream",
     "text": [
      "                Confirmed  Deaths  Recovered  Fatality Rate\n",
      "Country/Region                                             \n",
      "Italy               41035    3405       4440       8.297795\n",
      "Iran                18407    1284       5710       6.975607\n",
      "United Kingdom       2716     138         67       5.081001\n",
      "Spain               17963     830       1107       4.620609\n",
      "China               81156    3249      70535       4.003401\n",
      "Netherlands          2465      77          2       3.123732\n",
      "France              10886     243         12       2.232225\n",
      "US                  13680     200        108       1.461988\n",
      "Belgium              1795      21         31       1.169916\n",
      "Korea, South         8565      91       1540       1.062464\n",
      "Switzerland          4075      41         15       1.006135\n",
      "Sweden               1439      11         16       0.764420\n",
      "Denmark              1225       6          1       0.489796\n",
      "Norway               1746       7          1       0.400916\n",
      "Austria              2013       6          9       0.298063\n",
      "Germany             15320      44        113       0.287206\n"
     ]
    }
   ],
   "source": [
    "print(df_countries)"
   ]
  },
  {
   "cell_type": "code",
   "execution_count": 7,
   "metadata": {},
   "outputs": [],
   "source": [
    "df_us = df[df['Country/Region']=='US']"
   ]
  },
  {
   "cell_type": "code",
   "execution_count": 8,
   "metadata": {},
   "outputs": [],
   "source": [
    "confirmed_pct = \"{0:.4f}%\".format(df_us['Confirmed'].sum()/331002651*100)\n",
    "deaths_pct = \"{0:.2f}%\".format(df_us['Deaths'].sum()/df_us['Confirmed'].sum()*100)\n",
    "overall_deaths_pct = \"{0:.4f}%\".format(df_us['Deaths'].sum()/331002651*100)"
   ]
  },
  {
   "cell_type": "code",
   "execution_count": 9,
   "metadata": {
    "scrolled": true
   },
   "outputs": [
    {
     "name": "stdout",
     "output_type": "stream",
     "text": [
      "There have been 13680 confirmed cases of COVID-19 in the US.\n",
      "There have been 200 deaths from COVID-19 in the US.\n",
      "An American has a 0.0041% percent chance of having had a confirmed case of COVID-19.\n",
      "An American has a 1.46% percent chance of having died from a confirmed case of COVID-19.\n",
      "An American has a 0.0001% percent chance of having died from COVID-19.\n"
     ]
    }
   ],
   "source": [
    "print('There have been %d confirmed cases of COVID-19 in the US.' % df_us['Confirmed'].sum())\n",
    "print('There have been %d deaths from COVID-19 in the US.' % df_us['Deaths'].sum())\n",
    "print('An American has a %s percent chance of having had a confirmed case of COVID-19.' % confirmed_pct)\n",
    "print('An American has a %s percent chance of having died from a confirmed case of COVID-19.' % deaths_pct)\n",
    "print('An American has a %s percent chance of having died from COVID-19.' % overall_deaths_pct)"
   ]
  },
  {
   "cell_type": "code",
   "execution_count": 10,
   "metadata": {},
   "outputs": [],
   "source": [
    "df_mn = df[df['Province/State']=='Minnesota']"
   ]
  },
  {
   "cell_type": "code",
   "execution_count": 11,
   "metadata": {},
   "outputs": [],
   "source": [
    "confirmed_pct = \"{0:.4f}%\".format(df_mn['Confirmed'].sum()/5700000*100)\n",
    "deaths_pct = \"{0:.2f}%\".format(df_mn['Deaths'].sum()/df_mn['Confirmed'].sum()*100)\n",
    "overall_deaths_pct = \"{0:.4f}%\".format(df_mn['Deaths'].sum()/5700000*100)"
   ]
  },
  {
   "cell_type": "code",
   "execution_count": 12,
   "metadata": {},
   "outputs": [
    {
     "name": "stdout",
     "output_type": "stream",
     "text": [
      "There have been 89 confirmed cases of COVID-19 in Minnesota.\n",
      "There have been 0 deaths from COVID-19 in Minnesota.\n",
      "A Minnesotan has a 0.0016% percent chance of having had a confirmed case of COVID-19.\n",
      "A Minnesotan has a 0.00% percent chance of having died from a confirmed case of COVID-19.\n",
      "A Minnesotan has a 0.0000% percent chance of having died from COVID-19.\n"
     ]
    }
   ],
   "source": [
    "print('There have been %d confirmed cases of COVID-19 in Minnesota.' % df_mn['Confirmed'].sum())\n",
    "print('There have been %d deaths from COVID-19 in Minnesota.' % df_mn['Deaths'].sum())\n",
    "print('A Minnesotan has a %s percent chance of having had a confirmed case of COVID-19.' % confirmed_pct)\n",
    "print('A Minnesotan has a %s percent chance of having died from a confirmed case of COVID-19.' % deaths_pct)\n",
    "print('A Minnesotan has a %s percent chance of having died from COVID-19.' % overall_deaths_pct)"
   ]
  }
 ],
 "metadata": {
  "kernelspec": {
   "display_name": "Python 3",
   "language": "python",
   "name": "python3"
  },
  "language_info": {
   "codemirror_mode": {
    "name": "ipython",
    "version": 3
   },
   "file_extension": ".py",
   "mimetype": "text/x-python",
   "name": "python",
   "nbconvert_exporter": "python",
   "pygments_lexer": "ipython3",
   "version": "3.7.6"
  }
 },
 "nbformat": 4,
 "nbformat_minor": 2
}
