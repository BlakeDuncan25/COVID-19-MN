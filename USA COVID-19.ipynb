{
 "cells": [
  {
   "cell_type": "code",
   "execution_count": 1,
   "metadata": {},
   "outputs": [],
   "source": [
    "import pandas as pd\n",
    "from datetime import datetime, timedelta\n",
    "\n",
    "pd.options.mode.chained_assignment = None  # default='warn'\n",
    "pd.options.display.float_format = \"{:.1f}\".format"
   ]
  },
  {
   "cell_type": "code",
   "execution_count": 2,
   "metadata": {},
   "outputs": [],
   "source": [
    "date_today = (datetime.today() - timedelta(days=1)).strftime(\"%m-%d-%Y\")"
   ]
  },
  {
   "cell_type": "code",
   "execution_count": 3,
   "metadata": {},
   "outputs": [],
   "source": [
    "url = f\"https://raw.githubusercontent.com/CSSEGISandData/COVID-19/master/csse_covid_19_data/csse_covid_19_daily_reports/{date_today}.csv\""
   ]
  },
  {
   "cell_type": "code",
   "execution_count": 4,
   "metadata": {},
   "outputs": [],
   "source": [
    "df = pd.read_csv(url, error_bad_lines=False)\n",
    "df = df.drop(columns=[\"Lat\", \"Long_\", \"FIPS\"])"
   ]
  },
  {
   "cell_type": "code",
   "execution_count": 5,
   "metadata": {},
   "outputs": [],
   "source": [
    "df_countries = df.groupby([\"Country_Region\"]).sum()\n",
    "df_countries = df_countries.drop(\n",
    "    columns=[\"Recovered\", \"Active\", \"Incident_Rate\", \"Case_Fatality_Ratio\"]\n",
    ")\n",
    "df_countries = df_countries[df_countries[\"Confirmed\"] >= 500000]\n",
    "df_countries[\"Fatality Rate\"] = df_countries[\"Deaths\"] / df_countries[\"Confirmed\"] * 100\n",
    "df_countries = df_countries.sort_values(by=\"Fatality Rate\", ascending=False)"
   ]
  },
  {
   "cell_type": "code",
   "execution_count": 6,
   "metadata": {},
   "outputs": [
    {
     "name": "stdout",
     "output_type": "stream",
     "text": [
      "                      Confirmed  Deaths  Fatality Rate\n",
      "Country_Region                                        \n",
      "Mexico                  2344755  216907            9.3\n",
      "Hungary                  779348   27540            3.5\n",
      "South Africa            1581210   54350            3.4\n",
      "Peru                    1799445   61477            3.4\n",
      "Italy                   4022653  120807            3.0\n",
      "United Kingdom          4432246  127775            2.9\n",
      "Iran                    2499077   71758            2.9\n",
      "Brazil                 14659011  403781            2.8\n",
      "Indonesia               1668368   45521            2.7\n",
      "Romania                 1055265   28109            2.7\n",
      "Colombia                2859724   73720            2.6\n",
      "Belgium                  990229   24230            2.4\n",
      "Germany                 3405365   83097            2.4\n",
      "Poland                  2792142   67502            2.4\n",
      "Russia                  4750755  108290            2.3\n",
      "Spain                   3524077   78216            2.2\n",
      "Chile                   1198245   26353            2.2\n",
      "Pakistan                 825519   17957            2.2\n",
      "Ukraine                 2124070   45923            2.2\n",
      "Argentina               2977363   63865            2.1\n",
      "Portugal                 836493   16974            2.0\n",
      "Canada                  1228367   24220            2.0\n",
      "France                  5677835  104675            1.8\n",
      "Czechia                 1630758   29267            1.8\n",
      "US                     32346971  576232            1.8\n",
      "Morocco                  511249    9023            1.8\n",
      "Japan                    593264   10199            1.7\n",
      "Philippines             1037460   17234            1.7\n",
      "Austria                  618870   10205            1.6\n",
      "Switzerland              659974   10632            1.6\n",
      "Bangladesh               759132   11450            1.5\n",
      "Iraq                    1065199   15465            1.5\n",
      "Sweden                   973604   14048            1.4\n",
      "Lebanon                  526578    7278            1.4\n",
      "Jordan                   711373    8836            1.2\n",
      "Netherlands             1522973   17398            1.1\n",
      "India                  19164969  211853            1.1\n",
      "Serbia                   689557    6362            0.9\n",
      "Turkey                  4820591   40131            0.8\n",
      "Israel                   838481    6363            0.8\n",
      "United Arab Emirates     520236    1587            0.3\n"
     ]
    }
   ],
   "source": [
    "print(df_countries)"
   ]
  },
  {
   "cell_type": "code",
   "execution_count": 7,
   "metadata": {},
   "outputs": [],
   "source": [
    "df_countries = df.groupby([\"Country_Region\"]).sum()\n",
    "df_countries = df_countries.drop(\n",
    "    columns=[\"Confirmed\", \"Active\", \"Incident_Rate\", \"Case_Fatality_Ratio\"]\n",
    ")\n",
    "df_countries = df_countries[df_countries[\"Recovered\"] >= 250000]\n",
    "df_countries[\"Recoveries per Death\"] = (\n",
    "    df_countries[\"Recovered\"] / df_countries[\"Deaths\"]\n",
    ")\n",
    "df_countries = df_countries.sort_values(by=\"Recoveries per Death\", ascending=False)"
   ]
  },
  {
   "cell_type": "code",
   "execution_count": 8,
   "metadata": {},
   "outputs": [
    {
     "name": "stdout",
     "output_type": "stream",
     "text": [
      "                      Deaths  Recovered  Recoveries per Death\n",
      "Country_Region                                               \n",
      "United Arab Emirates    1587   500779.0                 315.6\n",
      "Malaysia                1506   377980.0                 251.0\n",
      "Kuwait                  1563   257261.0                 164.6\n",
      "Belarus                 2542   349013.0                 137.3\n",
      "Israel                  6363   830625.0                 130.5\n",
      "Turkey                 40131  4323897.0                 107.7\n",
      "Kazakhstan              3334   328532.0                  98.5\n",
      "Nepal                   3279   281095.0                  85.7\n",
      "West Bank and Gaza      3249   272333.0                  83.8\n",
      "Jordan                  8836   682503.0                  77.2\n",
      "India                 211853 15684406.0                  74.0\n",
      "Georgia                 4110   290767.0                  70.7\n",
      "Azerbaijan              4517   289460.0                  64.1\n",
      "Lebanon                 7278   461122.0                  63.4\n",
      "Iraq                   15465   942046.0                  60.9\n",
      "Bangladesh             11450   681426.0                  59.5\n",
      "Saudi Arabia            6957   400580.0                  57.6\n",
      "Austria                10205   584777.0                  57.3\n",
      "Panama                  6232   354385.0                  56.9\n",
      "Morocco                 9023   497621.0                  55.2\n",
      "Philippines            17234   946318.0                  54.9\n",
      "Czechia                29267  1549439.0                  52.9\n",
      "Japan                  10199   518891.0                  50.9\n",
      "Portugal               16974   795838.0                  46.9\n",
      "Canada                 24220  1125237.0                  46.5\n",
      "Croatia                 7081   310595.0                  43.9\n",
      "Chile                  26353  1129347.0                  42.9\n",
      "Argentina              63865  2634306.0                  41.2\n",
      "Russia                108290  4377504.0                  40.4\n",
      "Pakistan               17957   717009.0                  39.9\n",
      "Ukraine                45923  1705967.0                  37.1\n",
      "Poland                 67502  2496810.0                  37.0\n",
      "Colombia               73720  2669308.0                  36.2\n",
      "Germany                83097  3008640.0                  36.2\n",
      "Romania                28109   989393.0                  35.2\n",
      "Indonesia              45521  1522634.0                  33.4\n",
      "Brazil                403781 12991951.0                  32.2\n",
      "Switzerland            10632   317600.0                  29.9\n",
      "Italy                 120807  3465576.0                  28.7\n",
      "Peru                   61477  1736183.0                  28.2\n",
      "South Africa           54350  1505620.0                  27.7\n",
      "Iran                   71758  1954321.0                  27.2\n",
      "Tunisia                10722   259957.0                  24.2\n",
      "Slovakia               11684   255300.0                  21.9\n",
      "Bulgaria               16399   339534.0                  20.7\n",
      "Bolivia                12951   250380.0                  19.3\n",
      "Hungary                27540   510379.0                  18.5\n",
      "Ecuador                18631   318598.0                  17.1\n",
      "Mexico                216907  1864914.0                   8.6\n",
      "France                104675   346480.0                   3.3\n"
     ]
    }
   ],
   "source": [
    "print(df_countries)"
   ]
  },
  {
   "cell_type": "code",
   "execution_count": 9,
   "metadata": {},
   "outputs": [],
   "source": [
    "df_us = df[df[\"Country_Region\"] == \"US\"]"
   ]
  },
  {
   "cell_type": "code",
   "execution_count": 10,
   "metadata": {},
   "outputs": [],
   "source": [
    "confirmed_pct = \"{0:.2f}%\".format(df_us[\"Confirmed\"].sum() / 331002651 * 100)\n",
    "deaths_pct = \"{0:.2f}%\".format(df_us[\"Deaths\"].sum() / df_us[\"Confirmed\"].sum() * 100)"
   ]
  },
  {
   "cell_type": "code",
   "execution_count": 11,
   "metadata": {
    "scrolled": true
   },
   "outputs": [
    {
     "name": "stdout",
     "output_type": "stream",
     "text": [
      "There have been 32346971 confirmed cases of COVID-19 in the US.\n",
      "There have been 576232 deaths from COVID-19 in the US.\n",
      "An American has a 9.77% percent chance of having had a confirmed case of COVID-19.\n",
      "An American has a 1.78% percent chance of having died from a confirmed case of COVID-19.\n"
     ]
    }
   ],
   "source": [
    "print(\n",
    "    \"There have been %d confirmed cases of COVID-19 in the US.\"\n",
    "    % df_us[\"Confirmed\"].sum()\n",
    ")\n",
    "print(\"There have been %d deaths from COVID-19 in the US.\" % df_us[\"Deaths\"].sum())\n",
    "print(\n",
    "    \"An American has a %s percent chance of having had a confirmed case of COVID-19.\"\n",
    "    % confirmed_pct\n",
    ")\n",
    "print(\n",
    "    \"An American has a %s percent chance of having died from a confirmed case of COVID-19.\"\n",
    "    % deaths_pct\n",
    ")"
   ]
  },
  {
   "cell_type": "code",
   "execution_count": 12,
   "metadata": {},
   "outputs": [],
   "source": [
    "df_mn = df[df[\"Province_State\"] == \"Minnesota\"]"
   ]
  },
  {
   "cell_type": "code",
   "execution_count": 13,
   "metadata": {},
   "outputs": [],
   "source": [
    "confirmed_pct = \"{0:.2f}%\".format(df_mn[\"Confirmed\"].sum() / 5700000 * 100)\n",
    "deaths_pct = \"{0:.2f}%\".format(df_mn[\"Deaths\"].sum() / df_mn[\"Confirmed\"].sum() * 100)"
   ]
  },
  {
   "cell_type": "code",
   "execution_count": 14,
   "metadata": {},
   "outputs": [
    {
     "name": "stdout",
     "output_type": "stream",
     "text": [
      "There have been 575812 confirmed cases of COVID-19 in Minnesota.\n",
      "There have been 7237 deaths from COVID-19 in Minnesota.\n",
      "A Minnesotan has a 10.10% percent chance of having had a confirmed case of COVID-19.\n",
      "A Minnesotan has a 1.26% percent chance of having died from a confirmed case of COVID-19.\n"
     ]
    }
   ],
   "source": [
    "print(\n",
    "    \"There have been %d confirmed cases of COVID-19 in Minnesota.\"\n",
    "    % df_mn[\"Confirmed\"].sum()\n",
    ")\n",
    "print(\"There have been %d deaths from COVID-19 in Minnesota.\" % df_mn[\"Deaths\"].sum())\n",
    "print(\n",
    "    \"A Minnesotan has a %s percent chance of having had a confirmed case of COVID-19.\"\n",
    "    % confirmed_pct\n",
    ")\n",
    "print(\n",
    "    \"A Minnesotan has a %s percent chance of having died from a confirmed case of COVID-19.\"\n",
    "    % deaths_pct\n",
    ")"
   ]
  }
 ],
 "metadata": {
  "kernelspec": {
   "display_name": "Python 3",
   "language": "python",
   "name": "python3"
  },
  "language_info": {
   "codemirror_mode": {
    "name": "ipython",
    "version": 3
   },
   "file_extension": ".py",
   "mimetype": "text/x-python",
   "name": "python",
   "nbconvert_exporter": "python",
   "pygments_lexer": "ipython3",
   "version": "3.7.6"
  }
 },
 "nbformat": 4,
 "nbformat_minor": 4
}
