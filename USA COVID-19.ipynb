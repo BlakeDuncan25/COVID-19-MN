{
 "cells": [
  {
   "cell_type": "code",
   "execution_count": 1,
   "metadata": {},
   "outputs": [],
   "source": [
    "import pandas as pd\n",
    "from datetime import datetime, timedelta\n",
    "pd.options.mode.chained_assignment = None  # default='warn'\n",
    "pd.options.display.float_format = '{:.1f}'.format"
   ]
  },
  {
   "cell_type": "code",
   "execution_count": 2,
   "metadata": {},
   "outputs": [],
   "source": [
    "date_today = (datetime.today() - timedelta(days=1)).strftime(\"%m-%d-%Y\")"
   ]
  },
  {
   "cell_type": "code",
   "execution_count": 3,
   "metadata": {},
   "outputs": [],
   "source": [
    "url = f'https://raw.githubusercontent.com/CSSEGISandData/COVID-19/master/csse_covid_19_data/csse_covid_19_daily_reports/{date_today}.csv'"
   ]
  },
  {
   "cell_type": "code",
   "execution_count": 4,
   "metadata": {},
   "outputs": [],
   "source": [
    "df = pd.read_csv(url, error_bad_lines=False)\n",
    "df = df.drop(columns=['Lat', 'Long_', 'FIPS'])"
   ]
  },
  {
   "cell_type": "code",
   "execution_count": 5,
   "metadata": {},
   "outputs": [],
   "source": [
    "# Estimate the % of cases being reported\n",
    "# FiveThirtyEight has experts estimating around 9-12% of cases are being reported.\n",
    "percent_estimate = 0.12"
   ]
  },
  {
   "cell_type": "code",
   "execution_count": 6,
   "metadata": {},
   "outputs": [],
   "source": [
    "df['Estimated Cases'] = df['Confirmed'] * (1/percent_estimate)"
   ]
  },
  {
   "cell_type": "code",
   "execution_count": 7,
   "metadata": {},
   "outputs": [],
   "source": [
    "df_countries = df.groupby(['Country_Region']).sum()\n",
    "df_countries = df_countries.drop(columns=['Estimated Cases', 'Recovered', 'Active'])\n",
    "df_countries = df_countries[df_countries['Confirmed']>=5000]\n",
    "df_countries['Fatality Rate'] = df_countries['Deaths'] / df_countries['Confirmed'] * 100\n",
    "df_countries = df_countries.sort_values(by='Fatality Rate', ascending=False)"
   ]
  },
  {
   "cell_type": "code",
   "execution_count": 8,
   "metadata": {},
   "outputs": [
    {
     "name": "stdout",
     "output_type": "stream",
     "text": [
      "                Confirmed  Deaths  Fatality Rate\n",
      "Country_Region                                  \n",
      "Italy              159516   20465           12.8\n",
      "Belgium             30589    3903           12.8\n",
      "United Kingdom      89570   11347           12.7\n",
      "France             137875   14986           10.9\n",
      "Netherlands         26710    2833           10.6\n",
      "Spain              170099   17756           10.4\n",
      "Sweden              10948     919            8.4\n",
      "Iran                73303    4585            6.3\n",
      "Brazil              23430    1328            5.7\n",
      "Romania              6633     331            5.0\n",
      "Ecuador              7529     355            4.7\n",
      "Switzerland         25688    1138            4.4\n",
      "Denmark              6513     285            4.4\n",
      "US                 580619   23529            4.1\n",
      "China               83213    3345            4.0\n",
      "Poland               6934     245            3.5\n",
      "Ireland             10647     365            3.4\n",
      "India               10453     358            3.4\n",
      "Portugal            16934     535            3.2\n",
      "Canada              25680     780            3.0\n",
      "Austria             14041     368            2.6\n",
      "Germany            130072    3194            2.5\n",
      "Czechia              6059     143            2.4\n",
      "Peru                 9784     216            2.2\n",
      "Turkey              61049    1296            2.1\n",
      "Korea, South        10537     217            2.1\n",
      "Norway               6603     134            2.0\n",
      "Pakistan             5496      93            1.7\n",
      "Japan                7370     123            1.7\n",
      "Chile                7525      82            1.1\n",
      "Israel              11586     116            1.0\n",
      "Australia            6351      61            1.0\n",
      "Russia              18328     148            0.8\n"
     ]
    }
   ],
   "source": [
    "print(df_countries)"
   ]
  },
  {
   "cell_type": "code",
   "execution_count": 9,
   "metadata": {},
   "outputs": [],
   "source": [
    "df_countries = df.groupby(['Country_Region']).sum()\n",
    "df_countries = df_countries.drop(columns=['Confirmed', 'Estimated Cases', 'Active'])\n",
    "df_countries = df_countries[df_countries['Recovered']>=1000]\n",
    "df_countries['Recoveries per Death'] = df_countries['Recovered'] / df_countries['Deaths']\n",
    "df_countries = df_countries.sort_values(by='Recoveries per Death', ascending=False)"
   ]
  },
  {
   "cell_type": "code",
   "execution_count": 10,
   "metadata": {},
   "outputs": [
    {
     "name": "stdout",
     "output_type": "stream",
     "text": [
      "                Deaths  Recovered  Recoveries per Death\n",
      "Country_Region                                         \n",
      "Korea, South       217       7447                  34.3\n",
      "Thailand            40       1288                  32.2\n",
      "Australia           61       1806                  29.6\n",
      "Malaysia            77       2276                  29.6\n",
      "Chile               82       2367                  28.9\n",
      "China             3345      78039                  23.3\n",
      "Germany           3194      64300                  20.1\n",
      "Austria            368       7343                  20.0\n",
      "Israel             116       1855                  16.0\n",
      "Peru               216       2642                  12.2\n",
      "Switzerland       1138      13700                  12.0\n",
      "Pakistan            93       1095                  11.8\n",
      "Iran              4585      45983                  10.0\n",
      "Canada             780       7758                   9.9\n",
      "Russia             148       1470                   9.9\n",
      "Denmark            285       2403                   8.4\n",
      "Mexico             296       1843                   6.2\n",
      "Spain            17756      64727                   3.6\n",
      "India              358       1181                   3.3\n",
      "Turkey            1296       3957                   3.1\n",
      "France           14986      28001                   1.9\n",
      "US               23529      43482                   1.8\n",
      "Italy            20465      35435                   1.7\n",
      "Belgium           3903       6707                   1.7\n"
     ]
    }
   ],
   "source": [
    "print(df_countries)"
   ]
  },
  {
   "cell_type": "code",
   "execution_count": 11,
   "metadata": {},
   "outputs": [],
   "source": [
    "df_us = df[df['Country_Region']=='US']"
   ]
  },
  {
   "cell_type": "code",
   "execution_count": 12,
   "metadata": {},
   "outputs": [],
   "source": [
    "confirmed_pct = \"{0:.2f}%\".format(df_us['Confirmed'].sum()/331002651*100)\n",
    "deaths_pct = \"{0:.2f}%\".format(df_us['Deaths'].sum()/df_us['Confirmed'].sum()*100)"
   ]
  },
  {
   "cell_type": "code",
   "execution_count": 13,
   "metadata": {},
   "outputs": [],
   "source": [
    "est_confirmed_pct = \"{0:.2f}%\".format(df_us['Estimated Cases'].sum()/331002651*100)\n",
    "est_deaths_pct = \"{0:.2f}%\".format(df_us['Deaths'].sum()/df_us['Estimated Cases'].sum()*100)"
   ]
  },
  {
   "cell_type": "code",
   "execution_count": 14,
   "metadata": {
    "scrolled": true
   },
   "outputs": [
    {
     "name": "stdout",
     "output_type": "stream",
     "text": [
      "There have been 580619 confirmed cases of COVID-19 in the US.\n",
      "There have been 23529 deaths from COVID-19 in the US.\n",
      "An American has a 0.18% percent chance of having had a confirmed case of COVID-19.\n",
      "An American has a 4.05% percent chance of having died from a confirmed case of COVID-19.\n"
     ]
    }
   ],
   "source": [
    "print('There have been %d confirmed cases of COVID-19 in the US.' % df_us['Confirmed'].sum())\n",
    "print('There have been %d deaths from COVID-19 in the US.' % df_us['Deaths'].sum())\n",
    "print('An American has a %s percent chance of having had a confirmed case of COVID-19.' % confirmed_pct)\n",
    "print('An American has a %s percent chance of having died from a confirmed case of COVID-19.' % deaths_pct)"
   ]
  },
  {
   "cell_type": "code",
   "execution_count": 15,
   "metadata": {},
   "outputs": [
    {
     "name": "stdout",
     "output_type": "stream",
     "text": [
      "Experts estimate there have been 4838491 cases of COVID-19 in the US.\n",
      "With estimated numbers an American has a 1.46% percent chance of having had COVID-19\n",
      "The estimated numbers give us a fatality rate of 0.49% in the US\n"
     ]
    }
   ],
   "source": [
    "print('Experts estimate there have been %d cases of COVID-19 in the US.' % df_us['Estimated Cases'].sum())\n",
    "print('With estimated numbers an American has a %s percent chance of having had COVID-19' % est_confirmed_pct)\n",
    "print('The estimated numbers give us a fatality rate of %s in the US' % est_deaths_pct)"
   ]
  },
  {
   "cell_type": "code",
   "execution_count": 16,
   "metadata": {},
   "outputs": [],
   "source": [
    "df_mn = df[df['Province_State']=='Minnesota']"
   ]
  },
  {
   "cell_type": "code",
   "execution_count": 17,
   "metadata": {},
   "outputs": [],
   "source": [
    "confirmed_pct = \"{0:.2f}%\".format(df_mn['Confirmed'].sum()/5700000*100)\n",
    "deaths_pct = \"{0:.2f}%\".format(df_mn['Deaths'].sum()/df_mn['Confirmed'].sum()*100)"
   ]
  },
  {
   "cell_type": "code",
   "execution_count": 18,
   "metadata": {},
   "outputs": [],
   "source": [
    "est_confirmed_pct = \"{0:.2f}%\".format(df_mn['Estimated Cases'].sum()/5700000*100)\n",
    "est_deaths_pct = \"{0:.2f}%\".format(df_mn['Deaths'].sum()/df_mn['Estimated Cases'].sum()*100)"
   ]
  },
  {
   "cell_type": "code",
   "execution_count": 19,
   "metadata": {},
   "outputs": [
    {
     "name": "stdout",
     "output_type": "stream",
     "text": [
      "There have been 1621 confirmed cases of COVID-19 in Minnesota.\n",
      "There have been 70 deaths from COVID-19 in Minnesota.\n",
      "A Minnesotan has a 0.03% percent chance of having had a confirmed case of COVID-19.\n",
      "A Minnesotan has a 4.32% percent chance of having died from a confirmed case of COVID-19.\n"
     ]
    }
   ],
   "source": [
    "print('There have been %d confirmed cases of COVID-19 in Minnesota.' % df_mn['Confirmed'].sum())\n",
    "print('There have been %d deaths from COVID-19 in Minnesota.' % df_mn['Deaths'].sum())\n",
    "print('A Minnesotan has a %s percent chance of having had a confirmed case of COVID-19.' % confirmed_pct)\n",
    "print('A Minnesotan has a %s percent chance of having died from a confirmed case of COVID-19.' % deaths_pct)"
   ]
  },
  {
   "cell_type": "code",
   "execution_count": 20,
   "metadata": {},
   "outputs": [
    {
     "name": "stdout",
     "output_type": "stream",
     "text": [
      "Experts estimate there have been 13508 cases of COVID-19 in MN.\n",
      "With estimated numbers a Minnesotan has a 0.24% percent chance of having had COVID-19\n",
      "The estimated numbers give us a fatality rate of 0.52% in MN\n"
     ]
    }
   ],
   "source": [
    "print('Experts estimate there have been %d cases of COVID-19 in MN.' % df_mn['Estimated Cases'].sum())\n",
    "print('With estimated numbers a Minnesotan has a %s percent chance of having had COVID-19' % est_confirmed_pct)\n",
    "print('The estimated numbers give us a fatality rate of %s in MN' % est_deaths_pct)"
   ]
  }
 ],
 "metadata": {
  "kernelspec": {
   "display_name": "Python 3",
   "language": "python",
   "name": "python3"
  },
  "language_info": {
   "codemirror_mode": {
    "name": "ipython",
    "version": 3
   },
   "file_extension": ".py",
   "mimetype": "text/x-python",
   "name": "python",
   "nbconvert_exporter": "python",
   "pygments_lexer": "ipython3",
   "version": "3.7.6"
  }
 },
 "nbformat": 4,
 "nbformat_minor": 4
}
