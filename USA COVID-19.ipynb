{
 "cells": [
  {
   "cell_type": "code",
   "execution_count": 1,
   "metadata": {},
   "outputs": [],
   "source": [
    "import pandas as pd\n",
    "from datetime import datetime, timedelta"
   ]
  },
  {
   "cell_type": "code",
   "execution_count": 2,
   "metadata": {},
   "outputs": [],
   "source": [
    "date_today = (datetime.today() - timedelta(days=1)).strftime(\"%m-%d-%Y\")"
   ]
  },
  {
   "cell_type": "code",
   "execution_count": 3,
   "metadata": {},
   "outputs": [],
   "source": [
    "url = f'https://raw.githubusercontent.com/CSSEGISandData/COVID-19/master/csse_covid_19_data/csse_covid_19_daily_reports/{date_today}.csv'"
   ]
  },
  {
   "cell_type": "code",
   "execution_count": 4,
   "metadata": {},
   "outputs": [],
   "source": [
    "df = pd.read_csv(url, error_bad_lines=False)\n",
    "df = df.drop(columns=['Latitude', 'Longitude'])"
   ]
  },
  {
   "cell_type": "code",
   "execution_count": 5,
   "metadata": {},
   "outputs": [],
   "source": [
    "df_countries = df.groupby(['Country/Region']).sum()\n",
    "df_countries = df_countries[df_countries['Confirmed']>=1000]\n",
    "df_countries['Fatality Rate'] = df_countries['Deaths'] / df_countries['Confirmed'] * 100\n",
    "df_countries = df_countries.sort_values(by='Fatality Rate', ascending=False)"
   ]
  },
  {
   "cell_type": "code",
   "execution_count": 6,
   "metadata": {},
   "outputs": [
    {
     "name": "stdout",
     "output_type": "stream",
     "text": [
      "                Confirmed  Deaths  Recovered  Fatality Rate\n",
      "Country/Region                                             \n",
      "Italy               53578    4825       6072       9.005562\n",
      "Iran                20610    1556       7635       7.549733\n",
      "Spain               25374    1375       2125       5.418933\n",
      "United Kingdom       5067     234         67       4.618117\n",
      "China               81305    3259      71857       4.008364\n",
      "France              14308     562         12       3.927873\n",
      "Netherlands          3640     137          2       3.763736\n",
      "Japan                1007      35        232       3.475670\n",
      "Belgium              2815      67        263       2.380107\n",
      "Canada               1278      19         10       1.486698\n",
      "Brazil               1021      15          2       1.469148\n",
      "US                  25493     307        171       1.204252\n",
      "Korea, South         8799     102       1540       1.159223\n",
      "Switzerland          6575      75         15       1.140684\n",
      "Sweden               1763      20         16       1.134430\n",
      "Portugal             1280      12          5       0.937500\n",
      "Denmark              1420      13          1       0.915493\n",
      "Australia            1071       7         26       0.653595\n",
      "Germany             22213      84        233       0.378157\n",
      "Malaysia             1183       4        114       0.338123\n",
      "Norway               2118       7          1       0.330500\n",
      "Austria              2814       8          9       0.284293\n"
     ]
    }
   ],
   "source": [
    "print(df_countries)"
   ]
  },
  {
   "cell_type": "code",
   "execution_count": 7,
   "metadata": {},
   "outputs": [],
   "source": [
    "df_us = df[df['Country/Region']=='US']"
   ]
  },
  {
   "cell_type": "code",
   "execution_count": 8,
   "metadata": {},
   "outputs": [],
   "source": [
    "confirmed_pct = \"{0:.4f}%\".format(df_us['Confirmed'].sum()/331002651*100)\n",
    "deaths_pct = \"{0:.2f}%\".format(df_us['Deaths'].sum()/df_us['Confirmed'].sum()*100)\n",
    "overall_deaths_pct = \"{0:.4f}%\".format(df_us['Deaths'].sum()/331002651*100)"
   ]
  },
  {
   "cell_type": "code",
   "execution_count": 9,
   "metadata": {
    "scrolled": true
   },
   "outputs": [
    {
     "name": "stdout",
     "output_type": "stream",
     "text": [
      "There have been 25493 confirmed cases of COVID-19 in the US.\n",
      "There have been 307 deaths from COVID-19 in the US.\n",
      "An American has a 0.0077% percent chance of having had a confirmed case of COVID-19.\n",
      "An American has a 1.20% percent chance of having died from a confirmed case of COVID-19.\n",
      "An American has a 0.0001% percent chance of having died from COVID-19.\n"
     ]
    }
   ],
   "source": [
    "print('There have been %d confirmed cases of COVID-19 in the US.' % df_us['Confirmed'].sum())\n",
    "print('There have been %d deaths from COVID-19 in the US.' % df_us['Deaths'].sum())\n",
    "print('An American has a %s percent chance of having had a confirmed case of COVID-19.' % confirmed_pct)\n",
    "print('An American has a %s percent chance of having died from a confirmed case of COVID-19.' % deaths_pct)\n",
    "print('An American has a %s percent chance of having died from COVID-19.' % overall_deaths_pct)"
   ]
  },
  {
   "cell_type": "code",
   "execution_count": 10,
   "metadata": {},
   "outputs": [],
   "source": [
    "df_mn = df[df['Province/State']=='Minnesota']"
   ]
  },
  {
   "cell_type": "code",
   "execution_count": 11,
   "metadata": {},
   "outputs": [],
   "source": [
    "confirmed_pct = \"{0:.4f}%\".format(df_mn['Confirmed'].sum()/5700000*100)\n",
    "deaths_pct = \"{0:.2f}%\".format(df_mn['Deaths'].sum()/df_mn['Confirmed'].sum()*100)\n",
    "overall_deaths_pct = \"{0:.4f}%\".format(df_mn['Deaths'].sum()/5700000*100)"
   ]
  },
  {
   "cell_type": "code",
   "execution_count": 12,
   "metadata": {},
   "outputs": [
    {
     "name": "stdout",
     "output_type": "stream",
     "text": [
      "There have been 138 confirmed cases of COVID-19 in Minnesota.\n",
      "There have been 1 deaths from COVID-19 in Minnesota.\n",
      "A Minnesotan has a 0.0024% percent chance of having had a confirmed case of COVID-19.\n",
      "A Minnesotan has a 0.72% percent chance of having died from a confirmed case of COVID-19.\n",
      "A Minnesotan has a 0.0000% percent chance of having died from COVID-19.\n"
     ]
    }
   ],
   "source": [
    "print('There have been %d confirmed cases of COVID-19 in Minnesota.' % df_mn['Confirmed'].sum())\n",
    "print('There have been %d deaths from COVID-19 in Minnesota.' % df_mn['Deaths'].sum())\n",
    "print('A Minnesotan has a %s percent chance of having had a confirmed case of COVID-19.' % confirmed_pct)\n",
    "print('A Minnesotan has a %s percent chance of having died from a confirmed case of COVID-19.' % deaths_pct)\n",
    "print('A Minnesotan has a %s percent chance of having died from COVID-19.' % overall_deaths_pct)"
   ]
  }
 ],
 "metadata": {
  "kernelspec": {
   "display_name": "Python 3",
   "language": "python",
   "name": "python3"
  },
  "language_info": {
   "codemirror_mode": {
    "name": "ipython",
    "version": 3
   },
   "file_extension": ".py",
   "mimetype": "text/x-python",
   "name": "python",
   "nbconvert_exporter": "python",
   "pygments_lexer": "ipython3",
   "version": "3.7.6"
  }
 },
 "nbformat": 4,
 "nbformat_minor": 4
}
