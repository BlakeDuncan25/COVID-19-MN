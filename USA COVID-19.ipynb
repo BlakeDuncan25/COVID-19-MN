{
 "cells": [
  {
   "cell_type": "code",
   "execution_count": 1,
   "metadata": {},
   "outputs": [],
   "source": [
    "import pandas as pd\n",
    "from datetime import datetime, timedelta\n",
    "pd.options.mode.chained_assignment = None  # default='warn'\n",
    "pd.options.display.float_format = '{:.1f}'.format"
   ]
  },
  {
   "cell_type": "code",
   "execution_count": 2,
   "metadata": {},
   "outputs": [],
   "source": [
    "date_today = (datetime.today() - timedelta(days=1)).strftime(\"%m-%d-%Y\")"
   ]
  },
  {
   "cell_type": "code",
   "execution_count": 3,
   "metadata": {},
   "outputs": [],
   "source": [
    "url = f'https://raw.githubusercontent.com/CSSEGISandData/COVID-19/master/csse_covid_19_data/csse_covid_19_daily_reports/{date_today}.csv'"
   ]
  },
  {
   "cell_type": "code",
   "execution_count": 4,
   "metadata": {},
   "outputs": [],
   "source": [
    "df = pd.read_csv(url, error_bad_lines=False)\n",
    "df = df.drop(columns=['Lat', 'Long_', 'FIPS'])"
   ]
  },
  {
   "cell_type": "code",
   "execution_count": 5,
   "metadata": {},
   "outputs": [],
   "source": [
    "# Estimate the % of cases being reported\n",
    "# FiveThirtyEight has experts estimating around 9-12% of cases are being reported.\n",
    "percent_estimate = 0.12"
   ]
  },
  {
   "cell_type": "code",
   "execution_count": 6,
   "metadata": {},
   "outputs": [],
   "source": [
    "df['Estimated Cases'] = df['Confirmed'] * (1/percent_estimate)"
   ]
  },
  {
   "cell_type": "code",
   "execution_count": 7,
   "metadata": {},
   "outputs": [],
   "source": [
    "df_countries = df.groupby(['Country_Region']).sum()\n",
    "df_countries = df_countries.drop(columns=['Estimated Cases', 'Recovered', 'Active'])\n",
    "df_countries = df_countries[df_countries['Confirmed']>=10000]\n",
    "df_countries['Fatality Rate'] = df_countries['Deaths'] / df_countries['Confirmed'] * 100\n",
    "df_countries = df_countries.sort_values(by='Fatality Rate', ascending=False)"
   ]
  },
  {
   "cell_type": "code",
   "execution_count": 8,
   "metadata": {},
   "outputs": [
    {
     "name": "stdout",
     "output_type": "stream",
     "text": [
      "                Confirmed  Deaths  Fatality Rate\n",
      "Country_Region                                  \n",
      "Belgium             42797    6490           15.2\n",
      "France             159460   21889           13.7\n",
      "United Kingdom     139246   18791           13.5\n",
      "Italy              189973   25549           13.4\n",
      "Sweden              16755    2021           12.1\n",
      "Netherlands         35921    4192           11.7\n",
      "Spain              213024   22157           10.4\n",
      "Mexico              11633    1069            9.2\n",
      "Brazil              50036    3331            6.7\n",
      "Iran                87026    5481            6.3\n",
      "US                 869170   49954            5.7\n",
      "China               83884    4636            5.5\n",
      "Switzerland         28496    1549            5.4\n",
      "Romania             10096     545            5.4\n",
      "Canada              43286    2241            5.2\n",
      "Ecuador             11183     560            5.0\n",
      "Ireland             17607     794            4.5\n",
      "Poland              10511     454            4.3\n",
      "Portugal            22353     820            3.7\n",
      "Germany            153129    5575            3.6\n",
      "Austria             15002     522            3.5\n",
      "India               23077     721            3.1\n",
      "Peru                20914     572            2.7\n",
      "Japan               12368     328            2.7\n",
      "Turkey             101790    2491            2.4\n",
      "Korea, South        10708     240            2.2\n",
      "Pakistan            11155     237            2.1\n",
      "Chile               11812     168            1.4\n",
      "Israel              14803     192            1.3\n",
      "Russia              62773     555            0.9\n",
      "Saudi Arabia        13930     121            0.9\n",
      "Singapore           11178      12            0.1\n"
     ]
    }
   ],
   "source": [
    "print(df_countries)"
   ]
  },
  {
   "cell_type": "code",
   "execution_count": 9,
   "metadata": {},
   "outputs": [],
   "source": [
    "df_countries = df.groupby(['Country_Region']).sum()\n",
    "df_countries = df_countries.drop(columns=['Confirmed', 'Estimated Cases', 'Active'])\n",
    "df_countries = df_countries[df_countries['Recovered']>=5000]\n",
    "df_countries['Recoveries per Death'] = df_countries['Recovered'] / df_countries['Deaths']\n",
    "df_countries = df_countries.sort_values(by='Recoveries per Death', ascending=False)"
   ]
  },
  {
   "cell_type": "code",
   "execution_count": 10,
   "metadata": {},
   "outputs": [
    {
     "name": "stdout",
     "output_type": "stream",
     "text": [
      "                Deaths  Recovered  Recoveries per Death\n",
      "Country_Region                                         \n",
      "Korea, South       240       8501                  35.4\n",
      "Chile              168       5804                  34.5\n",
      "Israel             192       5611                  29.2\n",
      "Austria            522      11694                  22.4\n",
      "Germany           5575     103300                  18.5\n",
      "China             4636      77983                  16.8\n",
      "Denmark            394       5573                  14.1\n",
      "Switzerland       1549      20600                  13.3\n",
      "Peru               572       7422                  13.0\n",
      "Iran              5481      64843                  11.8\n",
      "Ireland            794       9233                  11.6\n",
      "Brazil            3331      26573                   8.0\n",
      "Turkey            2491      18491                   7.4\n",
      "India              721       5012                   7.0\n",
      "Canada            2241      14761                   6.6\n",
      "Spain            22157      89250                   4.0\n",
      "Italy            25549      57576                   2.3\n",
      "France           21889      42762                   2.0\n",
      "US               49954      80203                   1.6\n",
      "Belgium           6490       9800                   1.5\n"
     ]
    }
   ],
   "source": [
    "print(df_countries)"
   ]
  },
  {
   "cell_type": "code",
   "execution_count": 11,
   "metadata": {},
   "outputs": [],
   "source": [
    "df_us = df[df['Country_Region']=='US']"
   ]
  },
  {
   "cell_type": "code",
   "execution_count": 12,
   "metadata": {},
   "outputs": [],
   "source": [
    "confirmed_pct = \"{0:.2f}%\".format(df_us['Confirmed'].sum()/331002651*100)\n",
    "deaths_pct = \"{0:.2f}%\".format(df_us['Deaths'].sum()/df_us['Confirmed'].sum()*100)"
   ]
  },
  {
   "cell_type": "code",
   "execution_count": 13,
   "metadata": {},
   "outputs": [],
   "source": [
    "est_confirmed_pct = \"{0:.2f}%\".format(df_us['Estimated Cases'].sum()/331002651*100)\n",
    "est_deaths_pct = \"{0:.2f}%\".format(df_us['Deaths'].sum()/df_us['Estimated Cases'].sum()*100)"
   ]
  },
  {
   "cell_type": "code",
   "execution_count": 14,
   "metadata": {
    "scrolled": true
   },
   "outputs": [
    {
     "name": "stdout",
     "output_type": "stream",
     "text": [
      "There have been 869170 confirmed cases of COVID-19 in the US.\n",
      "There have been 49954 deaths from COVID-19 in the US.\n",
      "An American has a 0.26% percent chance of having had a confirmed case of COVID-19.\n",
      "An American has a 5.75% percent chance of having died from a confirmed case of COVID-19.\n"
     ]
    }
   ],
   "source": [
    "print('There have been %d confirmed cases of COVID-19 in the US.' % df_us['Confirmed'].sum())\n",
    "print('There have been %d deaths from COVID-19 in the US.' % df_us['Deaths'].sum())\n",
    "print('An American has a %s percent chance of having had a confirmed case of COVID-19.' % confirmed_pct)\n",
    "print('An American has a %s percent chance of having died from a confirmed case of COVID-19.' % deaths_pct)"
   ]
  },
  {
   "cell_type": "code",
   "execution_count": 15,
   "metadata": {},
   "outputs": [
    {
     "name": "stdout",
     "output_type": "stream",
     "text": [
      "Experts estimate there have been 7243083 cases of COVID-19 in the US.\n",
      "With estimated numbers an American has a 2.19% percent chance of having had COVID-19\n",
      "The estimated numbers give us a fatality rate of 0.69% in the US\n"
     ]
    }
   ],
   "source": [
    "print('Experts estimate there have been %d cases of COVID-19 in the US.' % df_us['Estimated Cases'].sum())\n",
    "print('With estimated numbers an American has a %s percent chance of having had COVID-19' % est_confirmed_pct)\n",
    "print('The estimated numbers give us a fatality rate of %s in the US' % est_deaths_pct)"
   ]
  },
  {
   "cell_type": "code",
   "execution_count": 16,
   "metadata": {},
   "outputs": [],
   "source": [
    "df_mn = df[df['Province_State']=='Minnesota']"
   ]
  },
  {
   "cell_type": "code",
   "execution_count": 17,
   "metadata": {},
   "outputs": [],
   "source": [
    "confirmed_pct = \"{0:.2f}%\".format(df_mn['Confirmed'].sum()/5700000*100)\n",
    "deaths_pct = \"{0:.2f}%\".format(df_mn['Deaths'].sum()/df_mn['Confirmed'].sum()*100)"
   ]
  },
  {
   "cell_type": "code",
   "execution_count": 18,
   "metadata": {},
   "outputs": [],
   "source": [
    "est_confirmed_pct = \"{0:.2f}%\".format(df_mn['Estimated Cases'].sum()/5700000*100)\n",
    "est_deaths_pct = \"{0:.2f}%\".format(df_mn['Deaths'].sum()/df_mn['Estimated Cases'].sum()*100)"
   ]
  },
  {
   "cell_type": "code",
   "execution_count": 19,
   "metadata": {},
   "outputs": [
    {
     "name": "stdout",
     "output_type": "stream",
     "text": [
      "There have been 2942 confirmed cases of COVID-19 in Minnesota.\n",
      "There have been 200 deaths from COVID-19 in Minnesota.\n",
      "A Minnesotan has a 0.05% percent chance of having had a confirmed case of COVID-19.\n",
      "A Minnesotan has a 6.80% percent chance of having died from a confirmed case of COVID-19.\n"
     ]
    }
   ],
   "source": [
    "print('There have been %d confirmed cases of COVID-19 in Minnesota.' % df_mn['Confirmed'].sum())\n",
    "print('There have been %d deaths from COVID-19 in Minnesota.' % df_mn['Deaths'].sum())\n",
    "print('A Minnesotan has a %s percent chance of having had a confirmed case of COVID-19.' % confirmed_pct)\n",
    "print('A Minnesotan has a %s percent chance of having died from a confirmed case of COVID-19.' % deaths_pct)"
   ]
  },
  {
   "cell_type": "code",
   "execution_count": 20,
   "metadata": {},
   "outputs": [
    {
     "name": "stdout",
     "output_type": "stream",
     "text": [
      "Experts estimate there have been 24516 cases of COVID-19 in MN.\n",
      "With estimated numbers a Minnesotan has a 0.43% percent chance of having had COVID-19\n",
      "The estimated numbers give us a fatality rate of 0.82% in MN\n"
     ]
    }
   ],
   "source": [
    "print('Experts estimate there have been %d cases of COVID-19 in MN.' % df_mn['Estimated Cases'].sum())\n",
    "print('With estimated numbers a Minnesotan has a %s percent chance of having had COVID-19' % est_confirmed_pct)\n",
    "print('The estimated numbers give us a fatality rate of %s in MN' % est_deaths_pct)"
   ]
  }
 ],
 "metadata": {
  "kernelspec": {
   "display_name": "Python 3",
   "language": "python",
   "name": "python3"
  },
  "language_info": {
   "codemirror_mode": {
    "name": "ipython",
    "version": 3
   },
   "file_extension": ".py",
   "mimetype": "text/x-python",
   "name": "python",
   "nbconvert_exporter": "python",
   "pygments_lexer": "ipython3",
   "version": "3.7.6"
  }
 },
 "nbformat": 4,
 "nbformat_minor": 4
}
