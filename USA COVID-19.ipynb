{
 "cells": [
  {
   "cell_type": "code",
   "execution_count": 1,
   "metadata": {},
   "outputs": [],
   "source": [
    "import pandas as pd\n",
    "from datetime import datetime, timedelta\n",
    "pd.options.mode.chained_assignment = None  # default='warn'\n",
    "pd.options.display.float_format = '{:.1f}'.format"
   ]
  },
  {
   "cell_type": "code",
   "execution_count": 2,
   "metadata": {},
   "outputs": [],
   "source": [
    "date_today = (datetime.today() - timedelta(days=1)).strftime(\"%m-%d-%Y\")"
   ]
  },
  {
   "cell_type": "code",
   "execution_count": 3,
   "metadata": {},
   "outputs": [],
   "source": [
    "url = f'https://raw.githubusercontent.com/CSSEGISandData/COVID-19/master/csse_covid_19_data/csse_covid_19_daily_reports/{date_today}.csv'"
   ]
  },
  {
   "cell_type": "code",
   "execution_count": 4,
   "metadata": {},
   "outputs": [],
   "source": [
    "df = pd.read_csv(url, error_bad_lines=False)\n",
    "df = df.drop(columns=['Lat', 'Long_', 'FIPS'])"
   ]
  },
  {
   "cell_type": "code",
   "execution_count": 5,
   "metadata": {},
   "outputs": [],
   "source": [
    "# Estimate the % of cases being reported\n",
    "# FiveThirtyEight has experts estimating around 9-12% of cases are being reported.\n",
    "percent_estimate = 0.12"
   ]
  },
  {
   "cell_type": "code",
   "execution_count": 6,
   "metadata": {},
   "outputs": [],
   "source": [
    "df['Estimated Cases'] = df['Confirmed'] * (1/percent_estimate)"
   ]
  },
  {
   "cell_type": "code",
   "execution_count": 7,
   "metadata": {},
   "outputs": [],
   "source": [
    "df_countries = df.groupby(['Country_Region']).sum()\n",
    "df_countries = df_countries.drop(columns=['Estimated Cases', 'Recovered', 'Active'])\n",
    "df_countries = df_countries[df_countries['Confirmed']>=5000]\n",
    "df_countries['Fatality Rate'] = df_countries['Deaths'] / df_countries['Confirmed'] * 100\n",
    "df_countries = df_countries.sort_values(by='Fatality Rate', ascending=False)"
   ]
  },
  {
   "cell_type": "code",
   "execution_count": 8,
   "metadata": {},
   "outputs": [
    {
     "name": "stdout",
     "output_type": "stream",
     "text": [
      "                Confirmed  Deaths  Fatality Rate\n",
      "Country_Region                                  \n",
      "Italy              147577   18849           12.8\n",
      "United Kingdom      74605    8974           12.0\n",
      "Belgium             26667    3019           11.3\n",
      "Netherlands         23249    2520           10.8\n",
      "France             125931   13215           10.5\n",
      "Spain              158273   16081           10.2\n",
      "Sweden               9685     870            9.0\n",
      "Iran                68192    4232            6.2\n",
      "Brazil              19638    1057            5.4\n",
      "Romania              5467     270            4.9\n",
      "Ecuador              7161     297            4.1\n",
      "Denmark              6014     247            4.1\n",
      "Switzerland         24551    1002            4.1\n",
      "China               82941    3340            4.0\n",
      "US                 496535   18586            3.7\n",
      "Ireland              8089     287            3.5\n",
      "India                7598     246            3.2\n",
      "Poland               5955     181            3.0\n",
      "Peru                 5897     169            2.9\n",
      "Portugal            15472     435            2.8\n",
      "Canada              22059     557            2.5\n",
      "Austria             13555     319            2.4\n",
      "Germany            122171    2767            2.3\n",
      "Turkey              47029    1006            2.1\n",
      "Czechia              5732     119            2.1\n",
      "Korea, South        10450     208            2.0\n",
      "Japan                5530      99            1.8\n",
      "Norway               6314     113            1.8\n",
      "Chile                6501      65            1.0\n",
      "Israel              10408      95            0.9\n",
      "Australia            6215      54            0.9\n",
      "Russia              11917      94            0.8\n"
     ]
    }
   ],
   "source": [
    "print(df_countries)"
   ]
  },
  {
   "cell_type": "code",
   "execution_count": 9,
   "metadata": {},
   "outputs": [],
   "source": [
    "df_countries = df.groupby(['Country_Region']).sum()\n",
    "df_countries = df_countries.drop(columns=['Confirmed', 'Estimated Cases', 'Active'])\n",
    "df_countries = df_countries[df_countries['Recovered']>=1000]\n",
    "df_countries['Recoveries per Death'] = df_countries['Recovered'] / df_countries['Deaths']\n",
    "df_countries = df_countries.sort_values(by='Recoveries per Death', ascending=False)"
   ]
  },
  {
   "cell_type": "code",
   "execution_count": 10,
   "metadata": {},
   "outputs": [
    {
     "name": "stdout",
     "output_type": "stream",
     "text": [
      "                Deaths  Recovered  Recoveries per Death\n",
      "Country_Region                                         \n",
      "Korea, South       208       7117                  34.2\n",
      "Australia           54       1793                  33.2\n",
      "Thailand            33       1013                  30.7\n",
      "Malaysia            70       1830                  26.1\n",
      "Chile               65       1571                  24.2\n",
      "China             3340      77791                  23.3\n",
      "Germany           2767      53913                  19.5\n",
      "Austria            319       6064                  19.0\n",
      "Israel              95       1183                  12.5\n",
      "Switzerland       1002      11100                  11.1\n",
      "Canada             557       5855                  10.5\n",
      "Peru               169       1569                   9.3\n",
      "Iran              4232      35465                   8.4\n",
      "Denmark            247       1929                   7.8\n",
      "Spain            16081      55668                   3.5\n",
      "Turkey            1006       2423                   2.4\n",
      "France           13215      25195                   1.9\n",
      "Belgium           3019       5568                   1.8\n",
      "Italy            18849      30455                   1.6\n",
      "US               18586      28790                   1.5\n"
     ]
    }
   ],
   "source": [
    "print(df_countries)"
   ]
  },
  {
   "cell_type": "code",
   "execution_count": 11,
   "metadata": {},
   "outputs": [],
   "source": [
    "df_us = df[df['Country_Region']=='US']"
   ]
  },
  {
   "cell_type": "code",
   "execution_count": 12,
   "metadata": {},
   "outputs": [],
   "source": [
    "confirmed_pct = \"{0:.2f}%\".format(df_us['Confirmed'].sum()/331002651*100)\n",
    "deaths_pct = \"{0:.2f}%\".format(df_us['Deaths'].sum()/df_us['Confirmed'].sum()*100)"
   ]
  },
  {
   "cell_type": "code",
   "execution_count": 13,
   "metadata": {},
   "outputs": [],
   "source": [
    "est_confirmed_pct = \"{0:.2f}%\".format(df_us['Estimated Cases'].sum()/331002651*100)\n",
    "est_deaths_pct = \"{0:.2f}%\".format(df_us['Deaths'].sum()/df_us['Estimated Cases'].sum()*100)"
   ]
  },
  {
   "cell_type": "code",
   "execution_count": 14,
   "metadata": {
    "scrolled": true
   },
   "outputs": [
    {
     "name": "stdout",
     "output_type": "stream",
     "text": [
      "There have been 496535 confirmed cases of COVID-19 in the US.\n",
      "There have been 18586 deaths from COVID-19 in the US.\n",
      "An American has a 0.15% percent chance of having had a confirmed case of COVID-19.\n",
      "An American has a 3.74% percent chance of having died from a confirmed case of COVID-19.\n"
     ]
    }
   ],
   "source": [
    "print('There have been %d confirmed cases of COVID-19 in the US.' % df_us['Confirmed'].sum())\n",
    "print('There have been %d deaths from COVID-19 in the US.' % df_us['Deaths'].sum())\n",
    "print('An American has a %s percent chance of having had a confirmed case of COVID-19.' % confirmed_pct)\n",
    "print('An American has a %s percent chance of having died from a confirmed case of COVID-19.' % deaths_pct)"
   ]
  },
  {
   "cell_type": "code",
   "execution_count": 15,
   "metadata": {},
   "outputs": [
    {
     "name": "stdout",
     "output_type": "stream",
     "text": [
      "Experts estimate there have been 4137791 cases of COVID-19 in the US.\n",
      "With estimated numbers an American has a 1.25% percent chance of having had COVID-19\n",
      "The estimated numbers give us a fatality rate of 0.45% in the US\n"
     ]
    }
   ],
   "source": [
    "print('Experts estimate there have been %d cases of COVID-19 in the US.' % df_us['Estimated Cases'].sum())\n",
    "print('With estimated numbers an American has a %s percent chance of having had COVID-19' % est_confirmed_pct)\n",
    "print('The estimated numbers give us a fatality rate of %s in the US' % est_deaths_pct)"
   ]
  },
  {
   "cell_type": "code",
   "execution_count": 16,
   "metadata": {},
   "outputs": [],
   "source": [
    "df_mn = df[df['Province_State']=='Minnesota']"
   ]
  },
  {
   "cell_type": "code",
   "execution_count": 17,
   "metadata": {},
   "outputs": [],
   "source": [
    "confirmed_pct = \"{0:.2f}%\".format(df_mn['Confirmed'].sum()/5700000*100)\n",
    "deaths_pct = \"{0:.2f}%\".format(df_mn['Deaths'].sum()/df_mn['Confirmed'].sum()*100)"
   ]
  },
  {
   "cell_type": "code",
   "execution_count": 18,
   "metadata": {},
   "outputs": [],
   "source": [
    "est_confirmed_pct = \"{0:.2f}%\".format(df_mn['Estimated Cases'].sum()/5700000*100)\n",
    "est_deaths_pct = \"{0:.2f}%\".format(df_mn['Deaths'].sum()/df_mn['Estimated Cases'].sum()*100)"
   ]
  },
  {
   "cell_type": "code",
   "execution_count": 19,
   "metadata": {},
   "outputs": [
    {
     "name": "stdout",
     "output_type": "stream",
     "text": [
      "There have been 1336 confirmed cases of COVID-19 in Minnesota.\n",
      "There have been 57 deaths from COVID-19 in Minnesota.\n",
      "A Minnesotan has a 0.02% percent chance of having had a confirmed case of COVID-19.\n",
      "A Minnesotan has a 4.27% percent chance of having died from a confirmed case of COVID-19.\n"
     ]
    }
   ],
   "source": [
    "print('There have been %d confirmed cases of COVID-19 in Minnesota.' % df_mn['Confirmed'].sum())\n",
    "print('There have been %d deaths from COVID-19 in Minnesota.' % df_mn['Deaths'].sum())\n",
    "print('A Minnesotan has a %s percent chance of having had a confirmed case of COVID-19.' % confirmed_pct)\n",
    "print('A Minnesotan has a %s percent chance of having died from a confirmed case of COVID-19.' % deaths_pct)"
   ]
  },
  {
   "cell_type": "code",
   "execution_count": 20,
   "metadata": {},
   "outputs": [
    {
     "name": "stdout",
     "output_type": "stream",
     "text": [
      "Experts estimate there have been 11133 cases of COVID-19 in MN.\n",
      "With estimated numbers a Minnesotan has a 0.20% percent chance of having had COVID-19\n",
      "The estimated numbers give us a fatality rate of 0.51% in MN\n"
     ]
    }
   ],
   "source": [
    "print('Experts estimate there have been %d cases of COVID-19 in MN.' % df_mn['Estimated Cases'].sum())\n",
    "print('With estimated numbers a Minnesotan has a %s percent chance of having had COVID-19' % est_confirmed_pct)\n",
    "print('The estimated numbers give us a fatality rate of %s in MN' % est_deaths_pct)"
   ]
  }
 ],
 "metadata": {
  "kernelspec": {
   "display_name": "Python 3",
   "language": "python",
   "name": "python3"
  },
  "language_info": {
   "codemirror_mode": {
    "name": "ipython",
    "version": 3
   },
   "file_extension": ".py",
   "mimetype": "text/x-python",
   "name": "python",
   "nbconvert_exporter": "python",
   "pygments_lexer": "ipython3",
   "version": "3.7.6"
  }
 },
 "nbformat": 4,
 "nbformat_minor": 4
}
