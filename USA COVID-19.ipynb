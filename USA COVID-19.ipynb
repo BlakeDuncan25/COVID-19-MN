{
 "cells": [
  {
   "cell_type": "code",
   "execution_count": 1,
   "metadata": {},
   "outputs": [],
   "source": [
    "import pandas as pd\n",
    "from datetime import datetime, timedelta"
   ]
  },
  {
   "cell_type": "code",
   "execution_count": 2,
   "metadata": {},
   "outputs": [],
   "source": [
    "date_today = (datetime.today() - timedelta(days=1)).strftime(\"%m-%d-%Y\")"
   ]
  },
  {
   "cell_type": "code",
   "execution_count": 3,
   "metadata": {},
   "outputs": [],
   "source": [
    "url = f'https://raw.githubusercontent.com/CSSEGISandData/COVID-19/master/csse_covid_19_data/csse_covid_19_daily_reports/{date_today}.csv'"
   ]
  },
  {
   "cell_type": "code",
   "execution_count": 4,
   "metadata": {},
   "outputs": [],
   "source": [
    "df = pd.read_csv(url, error_bad_lines=False)\n",
    "df = df.drop(columns=['Lat', 'Long_', 'FIPS'])"
   ]
  },
  {
   "cell_type": "code",
   "execution_count": 5,
   "metadata": {},
   "outputs": [],
   "source": [
    "df_countries = df.groupby(['Country_Region']).sum()\n",
    "df_countries = df_countries[df_countries['Confirmed']>=5000]\n",
    "df_countries['Fatality Rate'] = df_countries['Deaths'] / df_countries['Confirmed'] * 100\n",
    "df_countries = df_countries.sort_values(by='Fatality Rate', ascending=False)"
   ]
  },
  {
   "cell_type": "code",
   "execution_count": 6,
   "metadata": {},
   "outputs": [
    {
     "name": "stdout",
     "output_type": "stream",
     "text": [
      "                Confirmed  Deaths  Recovered  Active  Fatality Rate\n",
      "Country_Region                                                     \n",
      "Italy              101739   11591      14620   75528      11.392878\n",
      "Spain               87956    7716      16780   63460       8.772568\n",
      "Netherlands         11817     865        253   10699       7.319963\n",
      "France              45170    3030       7964   34176       6.707992\n",
      "Iran                41495    2757      13911   24827       6.644174\n",
      "United Kingdom      22453    1411        171   20871       6.284238\n",
      "Belgium             11899     513       1527    9859       4.311287\n",
      "China               82198    3308      75923    2967       4.024429\n",
      "Switzerland         15922     359       1823   13740       2.254742\n",
      "Portugal             6408     140         43    6225       2.184769\n",
      "US                 161807    2978       5644       0       1.840464\n",
      "Korea, South         9661     158       5228    4275       1.635441\n",
      "Turkey              10827     168        162   10497       1.551676\n",
      "Austria              9618     108        636    8874       1.122895\n",
      "Canada               7398      80        466       0       1.081373\n",
      "Germany             66885     645      13500   52740       0.964342\n"
     ]
    }
   ],
   "source": [
    "print(df_countries)"
   ]
  },
  {
   "cell_type": "code",
   "execution_count": 7,
   "metadata": {},
   "outputs": [],
   "source": [
    "df_countries = df.groupby(['Country_Region']).sum()\n",
    "df_countries = df_countries[df_countries['Recovered']>=1000]\n",
    "df_countries['Recoveries per Death'] = df_countries['Recovered'] / df_countries['Deaths']\n",
    "df_countries = df_countries.sort_values(by='Recoveries per Death', ascending=False)"
   ]
  },
  {
   "cell_type": "code",
   "execution_count": 8,
   "metadata": {},
   "outputs": [
    {
     "name": "stdout",
     "output_type": "stream",
     "text": [
      "                Confirmed  Deaths  Recovered  Active  Recoveries per Death\n",
      "Country_Region                                                            \n",
      "Korea, South         9661     158       5228    4275             33.088608\n",
      "China               82198    3308      75923    2967             22.951330\n",
      "Germany             66885     645      13500   52740             20.930233\n",
      "Switzerland         15922     359       1823   13740              5.077994\n",
      "Iran                41495    2757      13911   24827              5.045702\n",
      "Belgium             11899     513       1527    9859              2.976608\n",
      "France              45170    3030       7964   34176              2.628383\n",
      "Spain               87956    7716      16780   63460              2.174702\n",
      "US                 161807    2978       5644       0              1.895232\n",
      "Italy              101739   11591      14620   75528              1.261323\n"
     ]
    }
   ],
   "source": [
    "print(df_countries)"
   ]
  },
  {
   "cell_type": "code",
   "execution_count": 9,
   "metadata": {},
   "outputs": [],
   "source": [
    "df_us = df[df['Country_Region']=='US']"
   ]
  },
  {
   "cell_type": "code",
   "execution_count": 10,
   "metadata": {},
   "outputs": [],
   "source": [
    "confirmed_pct = \"{0:.4f}%\".format(df_us['Confirmed'].sum()/331002651*100)\n",
    "deaths_pct = \"{0:.2f}%\".format(df_us['Deaths'].sum()/df_us['Confirmed'].sum()*100)\n",
    "overall_deaths_pct = \"{0:.4f}%\".format(df_us['Deaths'].sum()/331002651*100)"
   ]
  },
  {
   "cell_type": "code",
   "execution_count": 11,
   "metadata": {
    "scrolled": true
   },
   "outputs": [
    {
     "name": "stdout",
     "output_type": "stream",
     "text": [
      "There have been 161807 confirmed cases of COVID-19 in the US.\n",
      "There have been 2978 deaths from COVID-19 in the US.\n",
      "An American has a 0.0489% percent chance of having had a confirmed case of COVID-19.\n",
      "An American has a 1.84% percent chance of having died from a confirmed case of COVID-19.\n",
      "An American has a 0.0009% percent chance of having died from COVID-19.\n"
     ]
    }
   ],
   "source": [
    "print('There have been %d confirmed cases of COVID-19 in the US.' % df_us['Confirmed'].sum())\n",
    "print('There have been %d deaths from COVID-19 in the US.' % df_us['Deaths'].sum())\n",
    "print('An American has a %s percent chance of having had a confirmed case of COVID-19.' % confirmed_pct)\n",
    "print('An American has a %s percent chance of having died from a confirmed case of COVID-19.' % deaths_pct)\n",
    "print('An American has a %s percent chance of having died from COVID-19.' % overall_deaths_pct)"
   ]
  },
  {
   "cell_type": "code",
   "execution_count": 12,
   "metadata": {},
   "outputs": [],
   "source": [
    "df_mn = df[df['Province_State']=='Minnesota']"
   ]
  },
  {
   "cell_type": "code",
   "execution_count": 13,
   "metadata": {},
   "outputs": [],
   "source": [
    "confirmed_pct = \"{0:.4f}%\".format(df_mn['Confirmed'].sum()/5700000*100)\n",
    "deaths_pct = \"{0:.2f}%\".format(df_mn['Deaths'].sum()/df_mn['Confirmed'].sum()*100)\n",
    "overall_deaths_pct = \"{0:.4f}%\".format(df_mn['Deaths'].sum()/5700000*100)"
   ]
  },
  {
   "cell_type": "code",
   "execution_count": 14,
   "metadata": {},
   "outputs": [
    {
     "name": "stdout",
     "output_type": "stream",
     "text": [
      "There have been 576 confirmed cases of COVID-19 in Minnesota.\n",
      "There have been 10 deaths from COVID-19 in Minnesota.\n",
      "A Minnesotan has a 0.0101% percent chance of having had a confirmed case of COVID-19.\n",
      "A Minnesotan has a 1.74% percent chance of having died from a confirmed case of COVID-19.\n",
      "A Minnesotan has a 0.0002% percent chance of having died from COVID-19.\n"
     ]
    }
   ],
   "source": [
    "print('There have been %d confirmed cases of COVID-19 in Minnesota.' % df_mn['Confirmed'].sum())\n",
    "print('There have been %d deaths from COVID-19 in Minnesota.' % df_mn['Deaths'].sum())\n",
    "print('A Minnesotan has a %s percent chance of having had a confirmed case of COVID-19.' % confirmed_pct)\n",
    "print('A Minnesotan has a %s percent chance of having died from a confirmed case of COVID-19.' % deaths_pct)\n",
    "print('A Minnesotan has a %s percent chance of having died from COVID-19.' % overall_deaths_pct)"
   ]
  }
 ],
 "metadata": {
  "kernelspec": {
   "display_name": "Python 3",
   "language": "python",
   "name": "python3"
  },
  "language_info": {
   "codemirror_mode": {
    "name": "ipython",
    "version": 3
   },
   "file_extension": ".py",
   "mimetype": "text/x-python",
   "name": "python",
   "nbconvert_exporter": "python",
   "pygments_lexer": "ipython3",
   "version": "3.7.6"
  }
 },
 "nbformat": 4,
 "nbformat_minor": 4
}
